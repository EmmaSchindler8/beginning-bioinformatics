{
  "nbformat": 4,
  "nbformat_minor": 0,
  "metadata": {
    "colab": {
      "provenance": [],
      "collapsed_sections": [
        "WCXnGdftztbN"
      ],
      "include_colab_link": true
    },
    "kernelspec": {
      "name": "python3",
      "display_name": "Python 3"
    },
    "language_info": {
      "name": "python"
    }
  },
  "cells": [
    {
      "cell_type": "markdown",
      "metadata": {
        "id": "view-in-github",
        "colab_type": "text"
      },
      "source": [
        "<a href=\"https://colab.research.google.com/github/EmmaSchindler8/beginning-bioinformatics/blob/main/Bioinformatics_Module03.ipynb\" target=\"_parent\"><img src=\"https://colab.research.google.com/assets/colab-badge.svg\" alt=\"Open In Colab\"/></a>"
      ]
    },
    {
      "cell_type": "markdown",
      "source": [
        "# **<font color=blue>P1.** </font>Rename this notebook **Bioinformatics_Module03.ipynb </font><br>**"
      ],
      "metadata": {
        "id": "l3h89jAYBUzz"
      }
    },
    {
      "cell_type": "markdown",
      "source": [
        "# **<font color=blue>P2. </font>**```print()```writes to standard output (i.e. prints output to the screen)"
      ],
      "metadata": {
        "id": "jYlnA2Z2FhoW"
      }
    },
    {
      "cell_type": "markdown",
      "source": [
        "####**TASK P2.1:** Print <font color = magenta>hello world</font>"
      ],
      "metadata": {
        "id": "r118fqQodA9x"
      }
    },
    {
      "cell_type": "code",
      "source": [
        "print(\"hello world\")"
      ],
      "metadata": {
        "id": "kvxK8D5uFx_x",
        "colab": {
          "base_uri": "https://localhost:8080/"
        },
        "outputId": "744a9b59-8d5f-4ac9-add4-9fe31e03b850"
      },
      "execution_count": null,
      "outputs": [
        {
          "output_type": "stream",
          "name": "stdout",
          "text": [
            "hello world\n"
          ]
        }
      ]
    },
    {
      "cell_type": "markdown",
      "source": [
        "# **<font color=blue>P3. </font>**```=``` is the ASSIGNMENT operator (assigns values to variables)\n",
        "####**TASK P3.1:** Ask Gemini, \"*Give me 3 examples to help practice understanding the assignment operator.*\""
      ],
      "metadata": {
        "id": "qRj8vCvXG-1k"
      }
    },
    {
      "cell_type": "code",
      "source": [
        "x=5\n",
        "x"
      ],
      "metadata": {
        "id": "VB8HPNe7JpuJ",
        "colab": {
          "base_uri": "https://localhost:8080/"
        },
        "outputId": "08e8178b-3993-433f-f5df-f3c08c41866a"
      },
      "execution_count": null,
      "outputs": [
        {
          "output_type": "execute_result",
          "data": {
            "text/plain": [
              "5"
            ]
          },
          "metadata": {},
          "execution_count": 2
        }
      ]
    },
    {
      "cell_type": "markdown",
      "source": [
        "# **<font color=blue>P4. </font>** Data types: use ```type()``` to find a variable's \"type\"\n",
        "####**TASK P4.1:** Ask Gemini, \"*Give me examples of each data type to see how they look as outputs.*\""
      ],
      "metadata": {
        "id": "s7deJQCHHwOa"
      }
    },
    {
      "cell_type": "code",
      "source": [
        "type(x)"
      ],
      "metadata": {
        "colab": {
          "base_uri": "https://localhost:8080/"
        },
        "id": "ktR75uWIJ0uc",
        "outputId": "6d557cd2-aba2-46f3-e419-e66dc1c20804"
      },
      "execution_count": null,
      "outputs": [
        {
          "output_type": "execute_result",
          "data": {
            "text/plain": [
              "int"
            ]
          },
          "metadata": {},
          "execution_count": 3
        }
      ]
    },
    {
      "cell_type": "markdown",
      "source": [
        "# **<font color=blue>P5. </font>** Arithmetic and comparison operators\n",
        "####**TASK P5.1:**   Complete Rosalind #1"
      ],
      "metadata": {
        "id": "GtjxkNHWN5Xo"
      }
    },
    {
      "cell_type": "code",
      "source": [
        "y=2+3\n",
        "print(y)\n",
        "x==y"
      ],
      "metadata": {
        "id": "45s9c4vyQm2U",
        "colab": {
          "base_uri": "https://localhost:8080/"
        },
        "outputId": "4ed98099-2309-4f4b-fb7a-3547c40863d3"
      },
      "execution_count": null,
      "outputs": [
        {
          "output_type": "stream",
          "name": "stdout",
          "text": [
            "5\n"
          ]
        },
        {
          "output_type": "execute_result",
          "data": {
            "text/plain": [
              "True"
            ]
          },
          "metadata": {},
          "execution_count": 4
        }
      ]
    },
    {
      "cell_type": "markdown",
      "source": [
        "# **<font color=blue>P6. </font>** ```input()``` gets input from the user"
      ],
      "metadata": {
        "id": "3yswDberkE7N"
      }
    },
    {
      "cell_type": "markdown",
      "source": [
        "TASK P6.1"
      ],
      "metadata": {
        "id": "z97rSY9gqdad"
      }
    },
    {
      "cell_type": "code",
      "metadata": {
        "colab": {
          "base_uri": "https://localhost:8080/"
        },
        "id": "d91046dd",
        "outputId": "03636c49-5dce-4138-ec8f-4f88f676c0fd"
      },
      "source": [
        "name = input(\"Enter your name: \")\n",
        "print(\"Hello, \" + name)"
      ],
      "execution_count": null,
      "outputs": [
        {
          "output_type": "stream",
          "name": "stdout",
          "text": [
            "Enter your name: Emma\n",
            "Hello, Emma\n"
          ]
        }
      ]
    },
    {
      "cell_type": "markdown",
      "source": [
        "####**TASK P6.1:** Solve Rosalind #1 again, but get user input for the values of a and b rather than modifying the code."
      ],
      "metadata": {
        "id": "e3LaAQeLRmE6"
      }
    },
    {
      "cell_type": "code",
      "source": [
        "a= int(input(\"enter a value for a:\"))\n",
        "b= int(input(\"enter a value for b:\"))\n",
        "c=a**2+b**2\n",
        "print (\"The sq of the hypotenuse is\",c)"
      ],
      "metadata": {
        "id": "wZ0XL0L6Rq2H",
        "colab": {
          "base_uri": "https://localhost:8080/"
        },
        "outputId": "5db5cdea-3231-426c-e4cb-02cf5d426cfc"
      },
      "execution_count": null,
      "outputs": [
        {
          "output_type": "stream",
          "name": "stdout",
          "text": [
            "enter a value for a:897\n",
            "enter a value for b:821\n",
            "The sq of the hypotenuse is 1478650\n"
          ]
        }
      ]
    },
    {
      "cell_type": "markdown",
      "source": [
        "# **<font color=blue>P7. </font>** ```list``` type variables (create, replace, append)"
      ],
      "metadata": {
        "id": "4IM-9eAGkPdi"
      }
    },
    {
      "cell_type": "markdown",
      "source": [
        "####**TASK P7.1**"
      ],
      "metadata": {
        "id": "DhNGdYK6NEpe"
      }
    },
    {
      "cell_type": "code",
      "source": [
        "# Create a list with 3 elements and then print them\n",
        "\n",
        "my_list = [\"Hello\", \"World\", \"Charles Darwin\"]\n",
        "print (my_list[1])"
      ],
      "metadata": {
        "id": "N3VRRQIEkXuP",
        "colab": {
          "base_uri": "https://localhost:8080/"
        },
        "outputId": "4a108e0d-d0d3-4852-d223-8d5abc85c184"
      },
      "execution_count": null,
      "outputs": [
        {
          "output_type": "stream",
          "name": "stdout",
          "text": [
            "World\n"
          ]
        }
      ]
    },
    {
      "cell_type": "markdown",
      "source": [
        "####**TASK P7.2**"
      ],
      "metadata": {
        "id": "Yn3bAoi8NKy5"
      }
    },
    {
      "cell_type": "code",
      "source": [
        "# Substitute the item at index 2 in the list\n",
        "my_list[2] = \"Alfred R. Wallace\"\n",
        "print (my_list)"
      ],
      "metadata": {
        "id": "WNnsUuduOKbI",
        "colab": {
          "base_uri": "https://localhost:8080/"
        },
        "outputId": "d2f34693-6176-42f3-907d-9885ee42b882"
      },
      "execution_count": null,
      "outputs": [
        {
          "output_type": "stream",
          "name": "stdout",
          "text": [
            "['Hello', 'World', 'Alfred R. Wallace']\n"
          ]
        }
      ]
    },
    {
      "cell_type": "markdown",
      "source": [
        "####**TASK P7.3**"
      ],
      "metadata": {
        "id": "SxiMMNLyPwGV"
      }
    },
    {
      "cell_type": "code",
      "source": [
        "# Append an item to the end of the list\n",
        "my_list.append(\"Charles Darwin\")\n",
        "print (my_list)"
      ],
      "metadata": {
        "id": "3VrLc6CGQTi-",
        "colab": {
          "base_uri": "https://localhost:8080/"
        },
        "outputId": "3e52d4a9-0949-4e18-c40a-fd9ea759319b"
      },
      "execution_count": null,
      "outputs": [
        {
          "output_type": "stream",
          "name": "stdout",
          "text": [
            "['Hello', 'World', 'Alfred R. Wallace', 'Charles Darwin']\n"
          ]
        }
      ]
    },
    {
      "cell_type": "markdown",
      "source": [
        "####**TASK P7.4**. Ask Gemini how to <font color=crimson>```insert```</font> a new item at index 1 in the list"
      ],
      "metadata": {
        "id": "XQKmwgbfQond"
      }
    },
    {
      "cell_type": "code",
      "source": [
        "# On line #2 insert an item at index 1 of my_list\n",
        "\n",
        "print (my_list)"
      ],
      "metadata": {
        "id": "u0maP5CZZN13",
        "colab": {
          "base_uri": "https://localhost:8080/"
        },
        "outputId": "2bbae0fd-8f59-4bfb-9e28-2f1bc0701a66"
      },
      "execution_count": null,
      "outputs": [
        {
          "output_type": "stream",
          "name": "stdout",
          "text": [
            "['Hello', 'World', 'Alfred R. Wallace', 'Charles Darwin']\n"
          ]
        }
      ]
    },
    {
      "cell_type": "code",
      "source": [
        "#Emma's note: Using Gemini, I wrote a code that added \"new item\"\n",
        "#to index 1 of my list (the second position = index1)\n",
        "my_list.insert(1, \"new item\")\n",
        "print(my_list)\n"
      ],
      "metadata": {
        "colab": {
          "base_uri": "https://localhost:8080/"
        },
        "id": "BFpyGSznlWgM",
        "outputId": "68d9e00f-30d7-4fa6-8d30-34d157ad4dac"
      },
      "execution_count": null,
      "outputs": [
        {
          "output_type": "stream",
          "name": "stdout",
          "text": [
            "['Hello', 'new item', 'new item', 'World', 'Alfred R. Wallace', 'Charles Darwin']\n"
          ]
        }
      ]
    },
    {
      "cell_type": "code",
      "source": [
        "#Emma's Note: I ran the line 24 code twice and made my code have 'new item' twice\n",
        "#Here is how to fix that\n",
        "del my_list[1] # Deletes the item at index 1\n",
        "print(my_list)"
      ],
      "metadata": {
        "colab": {
          "base_uri": "https://localhost:8080/"
        },
        "id": "n4dYFZjVmyBI",
        "outputId": "4acafe8e-6a4e-4c4c-be7f-987e77a767c2"
      },
      "execution_count": null,
      "outputs": [
        {
          "output_type": "stream",
          "name": "stdout",
          "text": [
            "['Hello', 'new item', 'World', 'Alfred R. Wallace', 'Charles Darwin']\n"
          ]
        }
      ]
    },
    {
      "cell_type": "markdown",
      "source": [
        "# **<font color=blue>P8. </font>** Slicing lists and strings"
      ],
      "metadata": {
        "id": "nlBbe3qBRH_J"
      }
    },
    {
      "cell_type": "markdown",
      "source": [
        "####**TASK P8.1** Slice and print only the middle two elements from the list created in P7 (i.e. only <font color=magenta>World</font> and <font color=magenta>Alfred R. Wallace</font>).  "
      ],
      "metadata": {
        "id": "M0YW2MP0WtuI"
      }
    },
    {
      "cell_type": "code",
      "source": [
        "print (my_list[2:4])\n",
        "#Emma Note: My list is currently: ['Hello', 'new item', 'World', 'Alfred R. Wallace', 'Charles Darwin']\n",
        "#Goal: slice and print only 'world' and 'Alfred R. Wallace'"
      ],
      "metadata": {
        "colab": {
          "base_uri": "https://localhost:8080/"
        },
        "id": "Tp1djNtiaxSb",
        "outputId": "0624c299-d8a9-4d1b-ffbd-37f62918a93b"
      },
      "execution_count": null,
      "outputs": [
        {
          "output_type": "stream",
          "name": "stdout",
          "text": [
            "['World', 'Alfred R. Wallace']\n"
          ]
        }
      ]
    },
    {
      "cell_type": "markdown",
      "source": [
        "####**TASK P8.2**: Print <font color=magenta>Wallace World</font> from **my_string** by slicing\n"
      ],
      "metadata": {
        "id": "_F9KCUzCd3ID"
      }
    },
    {
      "cell_type": "code",
      "source": [
        "#create a string\n",
        "my_string = \"HelloWorldCharlesDarwinAlfred R. Walace\"\n",
        "print (my_string[0:5],my_string[5:10])\n",
        "\n",
        "# in the print command below input the correct index values to complete Task P8.2\n",
        "#Emma note: prints Wallace World (Walace world w/typo)\n",
        "print (my_string[33 :39],my_string[5:10])"
      ],
      "metadata": {
        "colab": {
          "base_uri": "https://localhost:8080/"
        },
        "id": "AafKngtba8En",
        "outputId": "2f36a55e-f206-4b26-b06b-98facd959c1a"
      },
      "execution_count": null,
      "outputs": [
        {
          "output_type": "stream",
          "name": "stdout",
          "text": [
            "Hello World\n",
            "Walace World\n"
          ]
        }
      ]
    },
    {
      "cell_type": "markdown",
      "source": [
        "####**TASK P8.3**  **<font color = orange> Complete Rosalind Problem #2 Strings and Lists</font>**"
      ],
      "metadata": {
        "id": "2TTQVE-Xf8jR"
      }
    },
    {
      "cell_type": "code",
      "source": [
        "# Enter code for Rosalind 2 here:\n",
        "#PRACTICE PROBLEM\n",
        "#create a string\n",
        "my_string_2 = \"HumptyDumptysatonawallHumptyDumptyhadagreatfallAlltheKingshorsesandalltheKingsmenCouldntputHumptyDumptyinhisplaceagain.\"\n",
        "\n"
      ],
      "metadata": {
        "id": "LI88f5RZh4GL"
      },
      "execution_count": null,
      "outputs": []
    },
    {
      "cell_type": "code",
      "source": [
        "print(my_string_2[22:27+1],my_string_2[97:102+1])\n",
        "#Emma Note: [a:b+1] to get full name"
      ],
      "metadata": {
        "colab": {
          "base_uri": "https://localhost:8080/"
        },
        "id": "GeNp3oq3vCzh",
        "outputId": "52cf093c-18f4-4307-fcb1-ff523e0d5343"
      },
      "execution_count": null,
      "outputs": [
        {
          "output_type": "stream",
          "name": "stdout",
          "text": [
            "Humpty Dumpty\n"
          ]
        }
      ]
    },
    {
      "cell_type": "code",
      "source": [
        "#MY ACTUAL PROBLEM\n",
        "#create a string\n",
        "my_string_3 = \"XrEY4sXao2NSericinusQ7JDbotnicaufwCka0fbu10Pfua2GwiNib0kBpq5ag8iQ33EP1RLpWcub5enLPQVP4PL2O0leRQB7JZARBRq9Zl18RaKasOubWAMn6zMCssGNjiTSRTzINd2jAlkwkVFBXMvCyHjFix3Uj79QuU6gzMMq5F.\""
      ],
      "metadata": {
        "id": "7n2xrH1vvsHH"
      },
      "execution_count": null,
      "outputs": []
    },
    {
      "cell_type": "code",
      "source": [
        "print(my_string_3 [11:19+1], my_string_3[24:30+1])"
      ],
      "metadata": {
        "colab": {
          "base_uri": "https://localhost:8080/"
        },
        "id": "hA83TXH4v-UL",
        "outputId": "9d1f6bf7-a7c0-4533-cab4-68437d216e34"
      },
      "execution_count": null,
      "outputs": [
        {
          "output_type": "stream",
          "name": "stdout",
          "text": [
            "Sericinus botnica\n"
          ]
        }
      ]
    },
    {
      "cell_type": "markdown",
      "source": [
        "####**<font color=crimson>TASK 8.4 Commit to GitHub**</font>*italicized text*"
      ],
      "metadata": {
        "id": "Tw6Pwh6TjwJ9"
      }
    },
    {
      "cell_type": "markdown",
      "source": [
        "# **<font color=blue>P9. </font>** ```if``` and ```else``` - conditional output"
      ],
      "metadata": {
        "id": "iHFNxm30lzic"
      }
    },
    {
      "cell_type": "markdown",
      "source": [
        "####**TASK P9.1** Create some code that subtracts two numbers if they are different or adds them if they are the same."
      ],
      "metadata": {
        "id": "WCXnGdftztbN"
      }
    },
    {
      "cell_type": "code",
      "source": [
        "a=5\n",
        "b=5\n",
        "\n",
        "if a!=b:\n",
        "  print(a-b)\n",
        "\n",
        "else:\n",
        "  print(a+b)"
      ],
      "metadata": {
        "id": "KabZsL5Fy8jJ",
        "colab": {
          "base_uri": "https://localhost:8080/"
        },
        "outputId": "e2f32d46-9662-461e-e3ed-3b9209968d1e"
      },
      "execution_count": null,
      "outputs": [
        {
          "output_type": "stream",
          "name": "stdout",
          "text": [
            "10\n"
          ]
        }
      ]
    },
    {
      "cell_type": "markdown",
      "source": [
        "# **<font color=blue>P10.</font>** ```while``` loops"
      ],
      "metadata": {
        "id": "sOgq54Op4MZL"
      }
    },
    {
      "cell_type": "markdown",
      "source": [
        "####**TASK P10.1** Create a while loop that runs 3 times\n"
      ],
      "metadata": {
        "id": "JMqGqhTn4l9s"
      }
    },
    {
      "cell_type": "code",
      "source": [
        "#initiate a counter\n",
        "a = 1\n",
        "\n",
        "#print \"Counting!\" while a<=3\n",
        "while a <= 3:\n",
        "\n",
        "    print (\"Counting!\" * a)\n",
        "    a += 1\n",
        "    #Emma note: had to be indented in python so it does not just count forever"
      ],
      "metadata": {
        "id": "07YbiCGO4O1w",
        "colab": {
          "base_uri": "https://localhost:8080/"
        },
        "outputId": "2ff10dfb-7f72-4b96-986a-fb4c4a407406"
      },
      "execution_count": null,
      "outputs": [
        {
          "output_type": "stream",
          "name": "stdout",
          "text": [
            "Counting!\n",
            "Counting!Counting!\n",
            "Counting!Counting!Counting!\n"
          ]
        }
      ]
    },
    {
      "cell_type": "markdown",
      "source": [
        "# **<font color=blue>P11.</font>** ```for``` loops – looping over lists"
      ],
      "metadata": {
        "id": "R5_dYi9f6t1z"
      }
    },
    {
      "cell_type": "markdown",
      "source": [
        "####**TASK P11.1** Create a for loop to print each item in a list\n"
      ],
      "metadata": {
        "id": "x9F7v_V073wO"
      }
    },
    {
      "cell_type": "code",
      "source": [
        "names = [\"Alice\",\"Bob\",\"Charley\"]\n",
        "\n",
        "for name in names:\n",
        "    print (\"Hello\", name)"
      ],
      "metadata": {
        "id": "-aqaQ5hz70yo",
        "colab": {
          "base_uri": "https://localhost:8080/"
        },
        "outputId": "c082fa3c-d51b-433b-e2b0-9602724757c6"
      },
      "execution_count": null,
      "outputs": [
        {
          "output_type": "stream",
          "name": "stdout",
          "text": [
            "Hello Alice\n",
            "Hello Bob\n",
            "Hello Charley\n"
          ]
        }
      ]
    },
    {
      "cell_type": "code",
      "source": [
        "#Emma note: practice round with different words\n",
        "flowers = [\"roses\", \"dasies\", \"orchids\"]\n",
        "\n",
        "for flower in flowers:\n",
        "    print (\"I enjoy\", flower)"
      ],
      "metadata": {
        "colab": {
          "base_uri": "https://localhost:8080/"
        },
        "id": "X2xQJaDZ3tqw",
        "outputId": "7c73a273-b84b-4b23-ae89-1dd3c9e2a89c"
      },
      "execution_count": null,
      "outputs": [
        {
          "output_type": "stream",
          "name": "stdout",
          "text": [
            "I enjoy roses\n",
            "I enjoy dasies\n",
            "I enjoy orchids\n"
          ]
        }
      ]
    },
    {
      "cell_type": "markdown",
      "source": [
        "# **<font color=blue>P12.</font>** ```for``` loops over a ```range()```of numbers"
      ],
      "metadata": {
        "id": "LdtXZ0LW9ugo"
      }
    },
    {
      "cell_type": "markdown",
      "source": [
        "####**TASK 12.1** Using for and range(), create code that prints the numbers 0-9"
      ],
      "metadata": {
        "id": "jG6jvXEBDi4H"
      }
    },
    {
      "cell_type": "code",
      "source": [
        "# Create a variable to define the  number of iterations\n",
        "iterations = 10\n",
        "\n",
        "#Print the current item's value each time through the loop\n",
        "for number in range(iterations):\n",
        "    print (number)"
      ],
      "metadata": {
        "colab": {
          "base_uri": "https://localhost:8080/"
        },
        "id": "RFBXqQNu_E6X",
        "outputId": "5432bda6-328d-4eb1-e7a5-4ff15d03d6f8"
      },
      "execution_count": null,
      "outputs": [
        {
          "output_type": "stream",
          "name": "stdout",
          "text": [
            "0\n",
            "1\n",
            "2\n",
            "3\n",
            "4\n",
            "5\n",
            "6\n",
            "7\n",
            "8\n",
            "9\n"
          ]
        }
      ]
    },
    {
      "cell_type": "markdown",
      "source": [
        "####**TASK 12.2** Modify the code so that it only prints every 3rd number from 9 through 27 (i.e. including 27)"
      ],
      "metadata": {
        "id": "NRd5srR_G-PQ"
      }
    },
    {
      "cell_type": "code",
      "source": [
        "#Create 28 iterations because 28-1 = 27\n",
        "iterations = 28\n",
        "\n",
        "#Print from 9 to 27 on every third number\n",
        "for number in range (9, 28, 3) :\n",
        "  print(number)"
      ],
      "metadata": {
        "id": "irYTFPO-IRHo",
        "colab": {
          "base_uri": "https://localhost:8080/"
        },
        "outputId": "4b877878-09b8-4319-b6d8-6a6cb1bd5e16"
      },
      "execution_count": null,
      "outputs": [
        {
          "output_type": "stream",
          "name": "stdout",
          "text": [
            "9\n",
            "12\n",
            "15\n",
            "18\n",
            "21\n",
            "24\n",
            "27\n"
          ]
        }
      ]
    },
    {
      "cell_type": "markdown",
      "source": [
        "####**TASK 12.3** <font color = orange> **Complete Rosalind Problem #3 Conditions and Loops** </font>"
      ],
      "metadata": {
        "id": "83jDEjpMHXUa"
      }
    },
    {
      "cell_type": "code",
      "source": [
        "#**Practice Problem** Enter code for Rosalind 3 here:\n",
        "iterations = 201\n",
        "sum_of_odds = 0\n",
        "\n",
        "#Sum from 100 to 200 odd numbers only\n",
        "#to test if it is odd use a % 2 == 1\n",
        "\n",
        "for numbers in range (100, 201) :\n",
        "  if numbers % 2 == 1:\n",
        "    sum_of_odds +=numbers\n",
        "\n",
        "print(sum_of_odds)\n"
      ],
      "metadata": {
        "id": "EI7hRtakG90R",
        "colab": {
          "base_uri": "https://localhost:8080/"
        },
        "outputId": "59d350c2-c06f-4a92-ae80-5123e08930df"
      },
      "execution_count": null,
      "outputs": [
        {
          "output_type": "stream",
          "name": "stdout",
          "text": [
            "7500\n"
          ]
        }
      ]
    },
    {
      "cell_type": "code",
      "source": [
        "#**Actual HW Problem** Enter code for Rosalind 3 here:\n",
        "#Values: 4754 and 9114\n",
        "\n",
        "iterations = 9115\n",
        "sum_of_odds = 0\n",
        "\n",
        "#Sum from _ to _ odd numebrs only\n",
        "\n",
        "for numbers in range (4754,9115) :\n",
        "  if numbers % 2 == 1:\n",
        "    sum_of_odds +=numbers\n",
        "\n",
        "print(sum_of_odds)"
      ],
      "metadata": {
        "colab": {
          "base_uri": "https://localhost:8080/"
        },
        "id": "QoGH9O5BjsYu",
        "outputId": "759cdd57-5be6-440c-e510-392a2d1b285c"
      },
      "execution_count": null,
      "outputs": [
        {
          "output_type": "stream",
          "name": "stdout",
          "text": [
            "15116120\n"
          ]
        }
      ]
    },
    {
      "cell_type": "markdown",
      "source": [
        "####**<font color=crimson>TASK 12.4 Commit to GitHub**</font>"
      ],
      "metadata": {
        "id": "3P9DKNbPI1wp"
      }
    },
    {
      "cell_type": "markdown",
      "source": [
        "# **<font color=blue>P13.</font>** File I/O – with open(\"filename\", \"mode\") as filehandle:\n"
      ],
      "metadata": {
        "id": "i4Fo-ddSKWwy"
      }
    },
    {
      "cell_type": "markdown",
      "source": [
        "####**TASK P13.1** Use the ```read()``` function to print the <font color = orange>practice dataset from Rosalind #4</font>\n"
      ],
      "metadata": {
        "id": "sgc3wiQmLXcI"
      }
    },
    {
      "cell_type": "code",
      "source": [
        "with open(\"/practice.txt\",\"r\") as data:\n",
        "\n",
        "    #print(data.read())\n",
        "\n",
        "    #print(data.readline())\n",
        "\n",
        "    #print(data.readlines())\n"
      ],
      "metadata": {
        "id": "V5nzHsnULA_n",
        "colab": {
          "base_uri": "https://localhost:8080/",
          "height": 216
        },
        "outputId": "a818cfc6-0b55-43dd-9ede-193e39cf2d33"
      },
      "execution_count": null,
      "outputs": [
        {
          "output_type": "error",
          "ename": "FileNotFoundError",
          "evalue": "[Errno 2] No such file or directory: '/practice.txt'",
          "traceback": [
            "\u001b[0;31m---------------------------------------------------------------------------\u001b[0m",
            "\u001b[0;31mFileNotFoundError\u001b[0m                         Traceback (most recent call last)",
            "\u001b[0;32m/tmp/ipython-input-658374578.py\u001b[0m in \u001b[0;36m<cell line: 0>\u001b[0;34m()\u001b[0m\n\u001b[0;32m----> 1\u001b[0;31m \u001b[0;32mwith\u001b[0m \u001b[0mopen\u001b[0m\u001b[0;34m(\u001b[0m\u001b[0;34m\"/practice.txt\"\u001b[0m\u001b[0;34m,\u001b[0m\u001b[0;34m\"r\"\u001b[0m\u001b[0;34m)\u001b[0m \u001b[0;32mas\u001b[0m \u001b[0mdata\u001b[0m\u001b[0;34m:\u001b[0m\u001b[0;34m\u001b[0m\u001b[0;34m\u001b[0m\u001b[0m\n\u001b[0m\u001b[1;32m      2\u001b[0m \u001b[0;34m\u001b[0m\u001b[0m\n\u001b[1;32m      3\u001b[0m     \u001b[0;31m#print(data.read())\u001b[0m\u001b[0;34m\u001b[0m\u001b[0;34m\u001b[0m\u001b[0m\n\u001b[1;32m      4\u001b[0m \u001b[0;34m\u001b[0m\u001b[0m\n\u001b[1;32m      5\u001b[0m     \u001b[0mprint\u001b[0m\u001b[0;34m(\u001b[0m\u001b[0mdata\u001b[0m\u001b[0;34m.\u001b[0m\u001b[0mreadline\u001b[0m\u001b[0;34m(\u001b[0m\u001b[0;34m)\u001b[0m\u001b[0;34m)\u001b[0m\u001b[0;34m\u001b[0m\u001b[0;34m\u001b[0m\u001b[0m\n",
            "\u001b[0;31mFileNotFoundError\u001b[0m: [Errno 2] No such file or directory: '/practice.txt'"
          ]
        }
      ]
    },
    {
      "cell_type": "markdown",
      "source": [
        "####**TASK P13.2** Explore file object functions to read and print practice.txt"
      ],
      "metadata": {
        "id": "GLO6tBYNVzYZ"
      }
    },
    {
      "cell_type": "markdown",
      "source": [
        "#<font color=blue>**P14.**</font> Store the content, close the file, and join ( ) the list"
      ],
      "metadata": {
        "id": "iupO8iI-ZYAe"
      }
    },
    {
      "cell_type": "code",
      "source": [
        "with open(\"/practice.txt\",\"r\") as data:\n",
        "\n",
        "  list_of_lines=data.readlines()\n",
        "\n",
        "print (list_of_lines)"
      ],
      "metadata": {
        "id": "8U5w2qOudDyp",
        "colab": {
          "base_uri": "https://localhost:8080/"
        },
        "outputId": "8968252a-d27a-4986-bf0e-a40d815743af"
      },
      "execution_count": null,
      "outputs": [
        {
          "output_type": "stream",
          "name": "stdout",
          "text": [
            "['\\ufeffBravely bold Sir Robin rode forth from Camelot\\n', 'Yes, brave Sir Robin turned about\\n', 'He was not afraid to die, O brave Sir Robin\\n', 'And gallantly he chickened out\\n', 'He was not at all afraid to be killed in nasty ways\\n', 'Bravely talking to his feet\\n', 'Brave, brave, brave, brave Sir Robin\\n', 'He beat a very brave retreat']\n"
          ]
        }
      ]
    },
    {
      "cell_type": "markdown",
      "source": [
        "####**TASK P14.1** Read practice.txt into a list of lines. Then, after the file is closed, use the join ( ) function to print the contents so it looks like the original input."
      ],
      "metadata": {
        "id": "5pPhGmQYiiKx"
      }
    },
    {
      "cell_type": "code",
      "source": [
        "#Emma note: removed _ from code to make it come back normal\n",
        "#original print (\"_\".join())\n",
        "print (\"\".join(list_of_lines))"
      ],
      "metadata": {
        "id": "XLvFZ9uSeyYH",
        "colab": {
          "base_uri": "https://localhost:8080/"
        },
        "outputId": "45d0a0bc-524e-482a-ccc0-9a4c705df979"
      },
      "execution_count": null,
      "outputs": [
        {
          "output_type": "stream",
          "name": "stdout",
          "text": [
            "﻿Bravely bold Sir Robin rode forth from Camelot\n",
            "Yes, brave Sir Robin turned about\n",
            "He was not afraid to die, O brave Sir Robin\n",
            "And gallantly he chickened out\n",
            "He was not at all afraid to be killed in nasty ways\n",
            "Bravely talking to his feet\n",
            "Brave, brave, brave, brave Sir Robin\n",
            "He beat a very brave retreat\n"
          ]
        }
      ]
    },
    {
      "cell_type": "markdown",
      "source": [
        "#<font color=blue>**P15.**</font> Combining for loops with file objects"
      ],
      "metadata": {
        "id": "lY924yM0jckW"
      }
    },
    {
      "cell_type": "markdown",
      "source": [
        "####**TASK P15.1** Use a for loop to print each line in practice.txt"
      ],
      "metadata": {
        "id": "NvqGEl4JjpiO"
      }
    },
    {
      "cell_type": "code",
      "source": [
        "with open(\"/practice.txt\",\"r\") as data:\n",
        "\n",
        "  for line in data:\n",
        "    print (line)\n",
        "\n",
        "    print(\"string\",end=\"\")\n",
        "    print(line.rstrip())\n"
      ],
      "metadata": {
        "id": "snY-10pUkMby",
        "colab": {
          "base_uri": "https://localhost:8080/"
        },
        "outputId": "4469f40e-7f67-4296-ba62-89dc1ed4a3bb"
      },
      "execution_count": null,
      "outputs": [
        {
          "output_type": "stream",
          "name": "stdout",
          "text": [
            "﻿Bravely bold Sir Robin rode forth from Camelot\n",
            "\n",
            "string﻿Bravely bold Sir Robin rode forth from Camelot\n",
            "Yes, brave Sir Robin turned about\n",
            "\n",
            "stringYes, brave Sir Robin turned about\n",
            "He was not afraid to die, O brave Sir Robin\n",
            "\n",
            "stringHe was not afraid to die, O brave Sir Robin\n",
            "And gallantly he chickened out\n",
            "\n",
            "stringAnd gallantly he chickened out\n",
            "He was not at all afraid to be killed in nasty ways\n",
            "\n",
            "stringHe was not at all afraid to be killed in nasty ways\n",
            "Bravely talking to his feet\n",
            "\n",
            "stringBravely talking to his feet\n",
            "Brave, brave, brave, brave Sir Robin\n",
            "\n",
            "stringBrave, brave, brave, brave Sir Robin\n",
            "He beat a very brave retreat\n",
            "stringHe beat a very brave retreat\n"
          ]
        }
      ]
    },
    {
      "cell_type": "markdown",
      "source": [
        "####**TASK P15.2** <font color=orange>**Complete Rosalind Problem #4 Working with Files**</font>\n"
      ],
      "metadata": {
        "id": "DHzE7CI4lWGw"
      }
    },
    {
      "cell_type": "code",
      "source": [
        "#Rosalind Question 4 Practice\n",
        "#Note to self: Add 1 to go from odd to even as what I am looking for\n",
        "#### (i+1) % 2 == 0 instead of i % 2 == 0\n",
        "#Note to self: If the file is being weird in opening, hit \"copy path\" and then\n",
        "#copy that in. Sometimes it is not the auto path and you need to add a /\n",
        "#Given: A file containing at most 1000 lines.\n",
        "\n",
        "#Return: A file containing all the even-numbered\n",
        "#lines from the original file. Assume 1-based numbering of lines.\n",
        "with open(\"/practice.txt\",\"r\") as data:\n",
        "  for i, line in enumerate(data):\n",
        "      if (i+1) % 2 == 0:\n",
        "        print(line, end=\"\")"
      ],
      "metadata": {
        "id": "8QR9dRFtltBN",
        "colab": {
          "base_uri": "https://localhost:8080/"
        },
        "outputId": "af77e9d4-527e-4082-ec30-ca724bd8f4ab"
      },
      "execution_count": null,
      "outputs": [
        {
          "output_type": "stream",
          "name": "stdout",
          "text": [
            "Yes, brave Sir Robin turned about\n",
            "And gallantly he chickened out\n",
            "Bravely talking to his feet\n",
            "He beat a very brave retreat"
          ]
        }
      ]
    },
    {
      "cell_type": "markdown",
      "source": [],
      "metadata": {
        "id": "hpLzn2vAwAPv"
      }
    },
    {
      "cell_type": "code",
      "source": [
        "#Rosalind Question 4 (My Actual HW Problem)\n",
        "with open(\"/rosalind_ini5.txt\",\"r\") as data:\n",
        "  for i, line in enumerate(data):\n",
        "      if (i+1) % 2 == 0:\n",
        "        print(line, end=\"\")"
      ],
      "metadata": {
        "colab": {
          "base_uri": "https://localhost:8080/"
        },
        "id": "IdOruZVxv56X",
        "outputId": "707bca79-e8c4-49c7-89a6-6c8d791dcbe5"
      },
      "execution_count": null,
      "outputs": [
        {
          "output_type": "stream",
          "name": "stdout",
          "text": [
            "Some things in life are bad, they can really make you mad\n",
            "Other things just make you swear and curse\n",
            "When you're chewing on life's gristle, don't grumble give a whistle\n",
            "This will help things turn out for the best\n",
            "Always look on the bright side of life\n",
            "Always look on the right side of life\n",
            "If life seems jolly rotten, there's something you've forgotten\n",
            "And that's to laugh and smile and dance and sing\n",
            "When you're feeling in the dumps, don't be silly, chumps\n",
            "Just purse your lips and whistle, that's the thing\n",
            "So, always look on the bright side of death\n",
            "Just before you draw your terminal breath\n",
            "Life's a counterfeit and when you look at it\n",
            "Life's a laugh and death's the joke, it's true\n",
            "You see, it's all a show, keep them laughing as you go\n",
            "Just remember the last laugh is on you\n",
            "Always look on the bright side of life\n",
            "And always look on the right side of life\n",
            "Always look on the bright side of life\n",
            "And always look on the right side of life\n"
          ]
        }
      ]
    },
    {
      "cell_type": "markdown",
      "source": [
        "####**<font color=crimson>TASK 15.4 Commit to GitHub**</font>"
      ],
      "metadata": {
        "id": "GJ_acW4WlwDn"
      }
    },
    {
      "cell_type": "markdown",
      "source": [
        "#<font color=blue>**P16.**</font> ```for word in line.split()``` – looping over strings and splitting by any delimiter"
      ],
      "metadata": {
        "id": "WD5wnvQkmh6E"
      }
    },
    {
      "cell_type": "code",
      "source": [
        "#Practice\n",
        "word= \"Hello\"\n",
        "for letter in word:\n",
        "  print(letter)"
      ],
      "metadata": {
        "colab": {
          "base_uri": "https://localhost:8080/"
        },
        "id": "0T_NA3I1xSL1",
        "outputId": "714c0340-a510-415f-ed56-3735db60e28a"
      },
      "execution_count": null,
      "outputs": [
        {
          "output_type": "stream",
          "name": "stdout",
          "text": [
            "H\n",
            "e\n",
            "l\n",
            "l\n",
            "o\n"
          ]
        }
      ]
    },
    {
      "cell_type": "markdown",
      "source": [
        "####**TASK P16.1** Print each word in the ROSALIND Problem #5 Sample Dataset on a separate line.\n"
      ],
      "metadata": {
        "id": "kApNvgOLn8lp"
      }
    },
    {
      "cell_type": "code",
      "source": [
        "#Practice with last sample dataset (Problem #4)\n",
        "with open(\"/practice.txt\",\"r\") as data:\n",
        "\n",
        "  line=data.read()\n",
        "\n",
        "for word in line.split():\n",
        "    print (word)"
      ],
      "metadata": {
        "colab": {
          "base_uri": "https://localhost:8080/"
        },
        "id": "PBjyhwclpKoM",
        "outputId": "79ea9864-a3fb-438a-9a3f-14abf2c3fa3f"
      },
      "execution_count": null,
      "outputs": [
        {
          "output_type": "stream",
          "name": "stdout",
          "text": [
            "﻿Bravely\n",
            "bold\n",
            "Sir\n",
            "Robin\n",
            "rode\n",
            "forth\n",
            "from\n",
            "Camelot\n",
            "Yes,\n",
            "brave\n",
            "Sir\n",
            "Robin\n",
            "turned\n",
            "about\n",
            "He\n",
            "was\n",
            "not\n",
            "afraid\n",
            "to\n",
            "die,\n",
            "O\n",
            "brave\n",
            "Sir\n",
            "Robin\n",
            "And\n",
            "gallantly\n",
            "he\n",
            "chickened\n",
            "out\n",
            "He\n",
            "was\n",
            "not\n",
            "at\n",
            "all\n",
            "afraid\n",
            "to\n",
            "be\n",
            "killed\n",
            "in\n",
            "nasty\n",
            "ways\n",
            "Bravely\n",
            "talking\n",
            "to\n",
            "his\n",
            "feet\n",
            "Brave,\n",
            "brave,\n",
            "brave,\n",
            "brave\n",
            "Sir\n",
            "Robin\n",
            "He\n",
            "beat\n",
            "a\n",
            "very\n",
            "brave\n",
            "retreat\n"
          ]
        }
      ]
    },
    {
      "cell_type": "code",
      "source": [
        "#Practice with CURRENT sample dataset (Problem #5)\n",
        "with open(\"/practice_5.txt\",\"r\") as data:\n",
        "\n",
        "  line=data.read()\n",
        "\n",
        "for word in line.split():\n",
        "    print (word)"
      ],
      "metadata": {
        "colab": {
          "base_uri": "https://localhost:8080/"
        },
        "id": "-ab_p2ViyNAT",
        "outputId": "fe2e93c0-5ef3-4fc7-a97e-f1d7069ef961"
      },
      "execution_count": null,
      "outputs": [
        {
          "output_type": "stream",
          "name": "stdout",
          "text": [
            "﻿We\n",
            "tried\n",
            "list\n",
            "and\n",
            "we\n",
            "tried\n",
            "dicts\n",
            "also\n",
            "we\n",
            "tried\n",
            "Zen\n"
          ]
        }
      ]
    },
    {
      "cell_type": "markdown",
      "source": [
        "#<font color=blue>**P17.**</font> Python Dictionaries { }"
      ],
      "metadata": {
        "id": "kq9QbEttnA4h"
      }
    },
    {
      "cell_type": "markdown",
      "source": [
        "####**TASK 17.1** Create and print your first dictionary"
      ],
      "metadata": {
        "id": "lVudFQkZqJgh"
      }
    },
    {
      "cell_type": "code",
      "source": [
        "sequences = {\n",
        "    \"H.neandertalensis\":\"ACGTCGCTCTGCTA\",\n",
        "    \"H.sapiens\":\"ACGTCACTCTGCTA\"\n",
        "    }\n",
        "\n",
        "print (sequences)"
      ],
      "metadata": {
        "colab": {
          "base_uri": "https://localhost:8080/"
        },
        "id": "IzKFWDlgq6zo",
        "outputId": "a9e7e3a3-1e64-4816-fdfd-ec327968f370"
      },
      "execution_count": null,
      "outputs": [
        {
          "output_type": "stream",
          "name": "stdout",
          "text": [
            "{'H.neandertalensis': 'ACGTCGCTCTGCTA', 'H.sapiens': 'ACGTCACTCTGCTA'}\n"
          ]
        }
      ]
    },
    {
      "cell_type": "markdown",
      "source": [
        "#<font color=blue>**P18.**</font> Manipulating and printing dictionaries"
      ],
      "metadata": {
        "id": "OvqoT6UwnK0g"
      }
    },
    {
      "cell_type": "markdown",
      "source": [
        "####**TASK 18.1** Modify line 8 to create a fasta file of the hominid sequences"
      ],
      "metadata": {
        "id": "5Be2tcQRrjso"
      }
    },
    {
      "cell_type": "code",
      "source": [
        "sequences[\"P.troglodytes\"]=\"ACGTCACTCTCCTA\"\n",
        "\n",
        "sequences.update({\"G.gorilla\":\"ACGTCCTCCTA\", \"H.erectus\":\"ACGTCACTCTGCTA\"})\n",
        "\n",
        "# print (sequences[\"H.sapiens\"]) # Commented out as it's not part of FASTA format\n",
        "\n",
        "# Print sequences in FASTA format\n",
        "for key, value in sequences.items():\n",
        "     print(\">\" + key) # Print the header line\n",
        "     print(value) # Print the sequence data"
      ],
      "metadata": {
        "colab": {
          "base_uri": "https://localhost:8080/"
        },
        "id": "b-2XDof4rtP8",
        "outputId": "abb16b1a-87fd-41ce-9110-73d2e3c531eb"
      },
      "execution_count": null,
      "outputs": [
        {
          "output_type": "stream",
          "name": "stdout",
          "text": [
            ">H.neandertalensis\n",
            "ACGTCGCTCTGCTA\n",
            ">H.sapiens\n",
            "ACGTCACTCTGCTA\n",
            ">P.troglodytes\n",
            "ACGTCACTCTCCTA\n",
            ">G.gorilla\n",
            "ACGTCCTCCTA\n",
            ">H.erectus\n",
            "ACGTCACTCTGCTA\n"
          ]
        }
      ]
    },
    {
      "cell_type": "code",
      "source": [
        "#Practice for Question 5 (Using sample set)\n",
        "#Given: A string s\n",
        "#of length at most 10000 letters.\n",
        "\n",
        "#Return: The number of occurrences of each word in s,\n",
        "#where words are separated by spaces. Words are case-sensitive,\n",
        "#and the lines in the output can be in any order.\n",
        "\n",
        "#Step One/Two: Open data file and read it\n",
        "with open(\"/practice_5.txt\",\"r\") as data:\n",
        "  text = data.read()\n",
        "\n",
        "#Step Three: Initiate empty dictionary\n",
        "occurrences = {}\n",
        "\n",
        "#Step Four: Loop over file getting one word at a time\n",
        "#AND\n",
        "#Step Five: In the loop, see if each word is used and how many times\n",
        "#First time: give value of one\n",
        "#Second+ time: add one to the value\n",
        "\n",
        "for word in text.split():\n",
        "  if word in occurrences:\n",
        "    occurrences[word] += 1\n",
        "  else:\n",
        "    occurrences[word] = 1\n",
        "\n",
        "print(occurrences)\n",
        "\n",
        "#step Seven: Print key, value pairs\n",
        "\n",
        "for key,value in occurrences.items():\n",
        "  print(key,value)"
      ],
      "metadata": {
        "colab": {
          "base_uri": "https://localhost:8080/"
        },
        "id": "pJf2EJtBD2bi",
        "outputId": "1a8524bc-b0bf-4fa3-8ac7-0d72aad5c807"
      },
      "execution_count": null,
      "outputs": [
        {
          "output_type": "stream",
          "name": "stdout",
          "text": [
            "{'\\ufeffWe': 1, 'tried': 3, 'list': 1, 'and': 1, 'we': 2, 'dicts': 1, 'also': 1, 'Zen': 1}\n",
            "﻿We 1\n",
            "tried 3\n",
            "list 1\n",
            "and 1\n",
            "we 2\n",
            "dicts 1\n",
            "also 1\n",
            "Zen 1\n"
          ]
        }
      ]
    },
    {
      "cell_type": "markdown",
      "source": [
        "####**TASK P18.2** <font color= orange>**Complete Rosalind Problem #5  Dictionaries**</font>"
      ],
      "metadata": {
        "id": "Y98OZYUNvmWD"
      }
    },
    {
      "cell_type": "code",
      "source": [
        "#Question 5 (Actual Set)\n",
        "#Given: A string s\n",
        "#of length at most 10000 letters.\n",
        "\n",
        "#Return: The number of occurrences of each word in s,\n",
        "#where words are separated by spaces. Words are case-sensitive,\n",
        "#and the lines in the output can be in any order.\n",
        "\n",
        "#Step One/Two: Open data file and read it\n",
        "with open(\"/rosalind_ini6.txt\",\"r\") as data:\n",
        "  text = data.read()\n",
        "\n",
        "#Step Three: Initiate empty dictionary\n",
        "occurrences = {}\n",
        "\n",
        "#Step Four: Loop over file getting one word at a time\n",
        "#AND\n",
        "#Step Five: In the loop, see if each word is used and how many times\n",
        "#First time: give value of one\n",
        "#Second+ time: add one to the value\n",
        "\n",
        "for word in text.split():\n",
        "  if word in occurrences:\n",
        "    occurrences[word] += 1\n",
        "  else:\n",
        "    occurrences[word] = 1\n",
        "\n",
        "print(occurrences)\n",
        "\n",
        "#step Seven: Print key, value pairs\n",
        "\n",
        "for key,value in occurrences.items():\n",
        "  print(key,value)"
      ],
      "metadata": {
        "id": "lD3KoTY9wWa7",
        "colab": {
          "base_uri": "https://localhost:8080/"
        },
        "outputId": "9f91e21d-a2b3-4fc7-e52d-7e88f49b10a0"
      },
      "execution_count": null,
      "outputs": [
        {
          "output_type": "stream",
          "name": "stdout",
          "text": [
            "{'When': 1, 'I': 2, 'find': 1, 'myself': 1, 'in': 4, 'times': 1, 'of': 11, 'trouble': 1, 'Mother': 2, 'Mary': 2, 'comes': 2, 'to': 3, 'me': 4, 'Speaking': 3, 'words': 7, 'wisdom': 7, 'let': 30, 'it': 36, 'be': 41, 'And': 3, 'my': 1, 'hour': 1, 'darkness': 1, 'she': 1, 'is': 4, 'standing': 1, 'right': 1, 'front': 1, 'Let': 6, 'Whisper': 4, 'when': 2, 'the': 4, 'broken': 1, 'hearted': 1, 'people': 1, 'living': 1, 'world': 1, 'agree': 1, 'There': 4, 'will': 5, 'an': 4, 'answer': 4, 'For': 1, 'though': 1, 'they': 2, 'may': 1, 'parted': 1, 'there': 2, 'still': 2, 'a': 2, 'chance': 1, 'that': 2, 'see': 1, 'night': 1, 'cloudy': 1, 'light': 1, 'shines': 1, 'on': 1, 'Shine': 1, 'until': 1, 'tomorrow': 1, 'wake': 1, 'up': 1, 'sound': 1, 'music': 1, 'yeah': 2}\n",
            "When 1\n",
            "I 2\n",
            "find 1\n",
            "myself 1\n",
            "in 4\n",
            "times 1\n",
            "of 11\n",
            "trouble 1\n",
            "Mother 2\n",
            "Mary 2\n",
            "comes 2\n",
            "to 3\n",
            "me 4\n",
            "Speaking 3\n",
            "words 7\n",
            "wisdom 7\n",
            "let 30\n",
            "it 36\n",
            "be 41\n",
            "And 3\n",
            "my 1\n",
            "hour 1\n",
            "darkness 1\n",
            "she 1\n",
            "is 4\n",
            "standing 1\n",
            "right 1\n",
            "front 1\n",
            "Let 6\n",
            "Whisper 4\n",
            "when 2\n",
            "the 4\n",
            "broken 1\n",
            "hearted 1\n",
            "people 1\n",
            "living 1\n",
            "world 1\n",
            "agree 1\n",
            "There 4\n",
            "will 5\n",
            "an 4\n",
            "answer 4\n",
            "For 1\n",
            "though 1\n",
            "they 2\n",
            "may 1\n",
            "parted 1\n",
            "there 2\n",
            "still 2\n",
            "a 2\n",
            "chance 1\n",
            "that 2\n",
            "see 1\n",
            "night 1\n",
            "cloudy 1\n",
            "light 1\n",
            "shines 1\n",
            "on 1\n",
            "Shine 1\n",
            "until 1\n",
            "tomorrow 1\n",
            "wake 1\n",
            "up 1\n",
            "sound 1\n",
            "music 1\n",
            "yeah 2\n"
          ]
        }
      ]
    },
    {
      "cell_type": "markdown",
      "source": [
        "####**<font color=crimson>TASK 18.3 Commit to GitHub**</font>"
      ],
      "metadata": {
        "id": "1dJdfy4bwVO4"
      }
    },
    {
      "cell_type": "markdown",
      "source": [
        "#<font color=blue>**P19.**</font> ```count()``` – counting things made easy"
      ],
      "metadata": {
        "id": "28ygQlYJnZoA"
      }
    },
    {
      "cell_type": "markdown",
      "source": [
        "####**TASK P19.1** <font color= orange>**Complete Rosalind Problem #6  Counting DNA Nucleotides**</font>"
      ],
      "metadata": {
        "id": "CZ9tBWDmw4D-"
      }
    },
    {
      "cell_type": "code",
      "source": [
        "#Rosalind 6 (Practice Text)\n",
        "#Given: A DNA string s\n",
        "#of length at most 1000 nt.\n",
        "\n",
        "#Return: Four integers (separated by spaces) counting the respective number\n",
        "#of times that the symbols 'A', 'C', 'G', and 'T' occur in\n",
        "with open(\"/Nucleotides.txt\",\"r\") as data:\n",
        "  my_string = data.read()\n",
        "\n",
        "print(my_string.count(\"A\"), my_string.count(\"C\"), my_string.count(\"G\"),\n",
        "      my_string.count(\"T\"))\n"
      ],
      "metadata": {
        "id": "GlwS14zGxBIC",
        "colab": {
          "base_uri": "https://localhost:8080/"
        },
        "outputId": "cc9b109d-f9d4-404b-edb0-6bfa8b2ce3c9"
      },
      "execution_count": null,
      "outputs": [
        {
          "output_type": "stream",
          "name": "stdout",
          "text": [
            "20 12 17 21\n"
          ]
        }
      ]
    },
    {
      "cell_type": "code",
      "source": [
        "#Rosalind 6 (Actual HW Problem)\n",
        "\n",
        "with open(\"/rosalind_dna.txt\",\"r\") as data:\n",
        "  my_string6 = data.read()\n",
        "\n",
        "print(my_string6.count(\"A\"), my_string6.count(\"C\"), my_string6.count(\"G\"),\n",
        "      my_string6.count(\"T\"))"
      ],
      "metadata": {
        "colab": {
          "base_uri": "https://localhost:8080/"
        },
        "id": "hqCmS9-mOmQo",
        "outputId": "d0df5edd-7e35-4ade-eef4-b624416c5bcd"
      },
      "execution_count": null,
      "outputs": [
        {
          "output_type": "stream",
          "name": "stdout",
          "text": [
            "201 224 194 192\n"
          ]
        }
      ]
    },
    {
      "cell_type": "markdown",
      "source": [
        "####**TASK P19.2** Modify your code for the Rosalind #5 Dictionary problem so that it uses count( ) to count the words."
      ],
      "metadata": {
        "id": "rj-OWB6Jym5y"
      }
    },
    {
      "cell_type": "code",
      "source": [
        "**Will come back to**\n",
        "with open(\"/rosalind_ini6.txt\",\"r\") as data:\n",
        "  my_string8 = data.read()\n",
        "\n",
        "\n",
        "for word in my_string8():\n",
        "  if word not in my_string8:\n",
        "    my_string8[word] += 1\n",
        "  else:\n",
        "    my_string8[word] = 1\n",
        "  print(my_string8)\n",
        "\n"
      ],
      "metadata": {
        "id": "9H_S6jLnzfxR",
        "colab": {
          "base_uri": "https://localhost:8080/",
          "height": 216
        },
        "outputId": "88f74a4d-d037-4978-ec9f-39678103452a"
      },
      "execution_count": null,
      "outputs": [
        {
          "output_type": "error",
          "ename": "TypeError",
          "evalue": "'str' object is not callable",
          "traceback": [
            "\u001b[0;31m---------------------------------------------------------------------------\u001b[0m",
            "\u001b[0;31mTypeError\u001b[0m                                 Traceback (most recent call last)",
            "\u001b[0;32m/tmp/ipython-input-3002708660.py\u001b[0m in \u001b[0;36m<cell line: 0>\u001b[0;34m()\u001b[0m\n\u001b[1;32m      3\u001b[0m \u001b[0;34m\u001b[0m\u001b[0m\n\u001b[1;32m      4\u001b[0m \u001b[0;34m\u001b[0m\u001b[0m\n\u001b[0;32m----> 5\u001b[0;31m \u001b[0;32mfor\u001b[0m \u001b[0mword\u001b[0m \u001b[0;32min\u001b[0m \u001b[0mmy_string8\u001b[0m\u001b[0;34m(\u001b[0m\u001b[0;34m)\u001b[0m\u001b[0;34m:\u001b[0m\u001b[0;34m\u001b[0m\u001b[0;34m\u001b[0m\u001b[0m\n\u001b[0m\u001b[1;32m      6\u001b[0m   \u001b[0;32mif\u001b[0m \u001b[0mword\u001b[0m \u001b[0;32mnot\u001b[0m \u001b[0;32min\u001b[0m \u001b[0mmy_string8\u001b[0m\u001b[0;34m:\u001b[0m\u001b[0;34m\u001b[0m\u001b[0;34m\u001b[0m\u001b[0m\n\u001b[1;32m      7\u001b[0m     \u001b[0mmy_string8\u001b[0m\u001b[0;34m[\u001b[0m\u001b[0mword\u001b[0m\u001b[0;34m]\u001b[0m \u001b[0;34m+=\u001b[0m \u001b[0;36m1\u001b[0m\u001b[0;34m\u001b[0m\u001b[0;34m\u001b[0m\u001b[0m\n",
            "\u001b[0;31mTypeError\u001b[0m: 'str' object is not callable"
          ]
        }
      ]
    },
    {
      "cell_type": "markdown",
      "source": [
        "####**<font color=crimson>TASK 19.3 Commit to GitHub**</font>\n"
      ],
      "metadata": {
        "id": "RzMon_wAzg7D"
      }
    },
    {
      "cell_type": "markdown",
      "source": [
        "#<font color=blue>**P20.**</font> Installing biopython"
      ],
      "metadata": {
        "id": "-IB0c2gG0Z1O"
      }
    },
    {
      "cell_type": "code",
      "source": [
        "!pip install biopython"
      ],
      "metadata": {
        "colab": {
          "base_uri": "https://localhost:8080/"
        },
        "id": "pinPQdEn0mJM",
        "outputId": "3ae9d205-007e-4706-d016-1910bb0f9e59"
      },
      "execution_count": null,
      "outputs": [
        {
          "output_type": "stream",
          "name": "stdout",
          "text": [
            "Collecting biopython\n",
            "  Downloading biopython-1.85-cp312-cp312-manylinux_2_17_x86_64.manylinux2014_x86_64.whl.metadata (13 kB)\n",
            "Requirement already satisfied: numpy in /usr/local/lib/python3.12/dist-packages (from biopython) (2.0.2)\n",
            "Downloading biopython-1.85-cp312-cp312-manylinux_2_17_x86_64.manylinux2014_x86_64.whl (3.3 MB)\n",
            "\u001b[?25l   \u001b[90m━━━━━━━━━━━━━━━━━━━━━━━━━━━━━━━━━━━━━━━━\u001b[0m \u001b[32m0.0/3.3 MB\u001b[0m \u001b[31m?\u001b[0m eta \u001b[36m-:--:--\u001b[0m\r\u001b[2K   \u001b[91m━━━━━━━━━━━━━━━━━━━━━━━━━━━━━━━━━━━━━━━\u001b[0m\u001b[91m╸\u001b[0m \u001b[32m3.3/3.3 MB\u001b[0m \u001b[31m162.2 MB/s\u001b[0m eta \u001b[36m0:00:01\u001b[0m\r\u001b[2K   \u001b[90m━━━━━━━━━━━━━━━━━━━━━━━━━━━━━━━━━━━━━━━━\u001b[0m \u001b[32m3.3/3.3 MB\u001b[0m \u001b[31m82.9 MB/s\u001b[0m eta \u001b[36m0:00:00\u001b[0m\n",
            "\u001b[?25hInstalling collected packages: biopython\n",
            "Successfully installed biopython-1.85\n"
          ]
        }
      ]
    },
    {
      "cell_type": "code",
      "source": [
        "#20.1 Gemini Test to see if ran correctly"
      ],
      "metadata": {
        "id": "2X0QZ1NBUgio"
      },
      "execution_count": null,
      "outputs": []
    },
    {
      "cell_type": "code",
      "metadata": {
        "colab": {
          "base_uri": "https://localhost:8080/"
        },
        "id": "5ccd6f0b",
        "outputId": "cad48942-3a3a-4120-ea36-5985b79d97e6"
      },
      "source": [
        "try:\n",
        "  from Bio.Seq import Seq\n",
        "  print(\"Biopython is installed correctly.\")\n",
        "except ImportError:\n",
        "  print(\"Biopython is not installed or there was an import error.\")"
      ],
      "execution_count": null,
      "outputs": [
        {
          "output_type": "stream",
          "name": "stdout",
          "text": [
            "Biopython is installed correctly.\n"
          ]
        }
      ]
    },
    {
      "cell_type": "markdown",
      "source": [
        "#<font color=blue>**P21.**</font> Seq( ) – a function to define sequence objects"
      ],
      "metadata": {
        "id": "IGX-ThdQ3RuA"
      }
    },
    {
      "cell_type": "code",
      "source": [
        "from Bio.Seq import Seq\n",
        "\n",
        "my_sequence = Seq(\"GATGGAACTTGACTACGTAAATT\")"
      ],
      "metadata": {
        "id": "ltZBr8mE4OhM"
      },
      "execution_count": null,
      "outputs": []
    },
    {
      "cell_type": "markdown",
      "source": [
        "####**TASK BP21.2** <font color=orange> **Complete Rosalind #7 Transcribing DNA into RNA**</font>"
      ],
      "metadata": {
        "id": "UXCuEFxg6Jxx"
      }
    },
    {
      "cell_type": "code",
      "source": [
        "#Rosaling Question 7 (**Using Practice Data**)\n",
        "#Given: A DNA string t\n",
        "#having length at most 1000 nt.\n",
        "\n",
        "#Return: The transcribed RNA string of t.\n",
        "from Bio.Seq import Seq\n",
        "\n",
        "my_sequence = Seq(\"GATGGAACTTGACTACGTAAATT\")\n",
        "print(my_sequence.transcribe())"
      ],
      "metadata": {
        "id": "UXt6gWLM6qde",
        "colab": {
          "base_uri": "https://localhost:8080/"
        },
        "outputId": "c87d5c91-b35a-48e5-dd09-2af20050b74f"
      },
      "execution_count": null,
      "outputs": [
        {
          "output_type": "stream",
          "name": "stdout",
          "text": [
            "GAUGGAACUUGACUACGUAAAUU\n"
          ]
        }
      ]
    },
    {
      "cell_type": "code",
      "source": [
        "#Rosalind Question 7 (Using Actual HW Data)\n",
        "from Bio.Seq import Seq\n",
        "\n",
        "my_sequence = Seq(\"GTAACAAGGGGTCTTCCCAGAATCTACACTTCTCTGAGCTTTCTAAAAATACCGAGAACACCGAATCCTAAAGAGACGCCTACAGGATTCCAACTGATGTCCCTGATCTCTGTACATCTATCGGACTCCCGTGATAAGGAGAACAAGCCACACATTGCGGCGTTCAGACTCTATATGGCGGCCCCTTTCTAACTCGCGCTGCAATAGCTTGGCGTAAAGGTCTTCTGTTGTGAATAAGGTGCGCAAAGATTAACTGCATGTGCCCGTGGGCTTCATTAACCTCCCGACGTTTCAGTTTGTCACAACGTTTGCTGGTATGGTGGGATCACCTTATGCGGACCGTCCTGTATTTTGGCAATTGGTGAGCCAGAGATTACCAATGGTTGGCGCCGAACCCACATTGCGGGAAATGTGGTAATCTCCCAGGAAGGCCCCGTGTCGGGGGTGCGTAAAGGGCCTAGCTAGCCGAGCAGTTACATCCAGGTCACTCGCCAGTACCAGTGTATCGAGAACATGGGCCCTCCCCGGGAAGAATTACTCGCTACTGCATTGGGGAGTTTAGGGCACTGATCAGGTAGGGAGGAATGTAACGGGAACAAACCGCCATCGAGCAATGGAAATCTACTTCATCGAGGGGCAAGGGCATCAGCGGTGACGAAGAAGAAGAGACGGTCTTAATTGTACTGGTACAAGACTTGATGTATTAATTCCCGCTCGGCTTTCCTTGTATATGATGGCCTATACCACCTTAAGATAATGCTCCCGATCTGGCAAGCGAAGTCCAGGAAGAACGGACCTTAGGGAAGAACTATTTATGCGGTTACGACTCTTTTCAAGATATTATGTCGCTCAGAAAAGTTGGTTCGAAGTTCCCCGCACTTTTCTCGAAGGGCAACTACGTACTTTGAAAGTCAAAAGATGTCCGCAGGGCTTATCATATGTGAGTAAAGACAGGTATGACGAAGTATAATAAGACAATCATCGGTTTGCACAGAAA\")\n",
        "print(my_sequence.transcribe())"
      ],
      "metadata": {
        "colab": {
          "base_uri": "https://localhost:8080/"
        },
        "id": "lB22_CDkV9Jy",
        "outputId": "3688d1d2-a30d-46c8-c8f5-b29a01f3aedf"
      },
      "execution_count": null,
      "outputs": [
        {
          "output_type": "stream",
          "name": "stdout",
          "text": [
            "GUAACAAGGGGUCUUCCCAGAAUCUACACUUCUCUGAGCUUUCUAAAAAUACCGAGAACACCGAAUCCUAAAGAGACGCCUACAGGAUUCCAACUGAUGUCCCUGAUCUCUGUACAUCUAUCGGACUCCCGUGAUAAGGAGAACAAGCCACACAUUGCGGCGUUCAGACUCUAUAUGGCGGCCCCUUUCUAACUCGCGCUGCAAUAGCUUGGCGUAAAGGUCUUCUGUUGUGAAUAAGGUGCGCAAAGAUUAACUGCAUGUGCCCGUGGGCUUCAUUAACCUCCCGACGUUUCAGUUUGUCACAACGUUUGCUGGUAUGGUGGGAUCACCUUAUGCGGACCGUCCUGUAUUUUGGCAAUUGGUGAGCCAGAGAUUACCAAUGGUUGGCGCCGAACCCACAUUGCGGGAAAUGUGGUAAUCUCCCAGGAAGGCCCCGUGUCGGGGGUGCGUAAAGGGCCUAGCUAGCCGAGCAGUUACAUCCAGGUCACUCGCCAGUACCAGUGUAUCGAGAACAUGGGCCCUCCCCGGGAAGAAUUACUCGCUACUGCAUUGGGGAGUUUAGGGCACUGAUCAGGUAGGGAGGAAUGUAACGGGAACAAACCGCCAUCGAGCAAUGGAAAUCUACUUCAUCGAGGGGCAAGGGCAUCAGCGGUGACGAAGAAGAAGAGACGGUCUUAAUUGUACUGGUACAAGACUUGAUGUAUUAAUUCCCGCUCGGCUUUCCUUGUAUAUGAUGGCCUAUACCACCUUAAGAUAAUGCUCCCGAUCUGGCAAGCGAAGUCCAGGAAGAACGGACCUUAGGGAAGAACUAUUUAUGCGGUUACGACUCUUUUCAAGAUAUUAUGUCGCUCAGAAAAGUUGGUUCGAAGUUCCCCGCACUUUUCUCGAAGGGCAACUACGUACUUUGAAAGUCAAAAGAUGUCCGCAGGGCUUAUCAUAUGUGAGUAAAGACAGGUAUGACGAAGUAUAAUAAGACAAUCAUCGGUUUGCACAGAAA\n"
          ]
        }
      ]
    },
    {
      "cell_type": "markdown",
      "source": [
        "####**TASK BP21.2** <font color=orange> **Complete Rosalind #8  Translating RNA into Protein**</font>"
      ],
      "metadata": {
        "id": "9P4_MaXp6O3n"
      }
    },
    {
      "cell_type": "code",
      "source": [
        "#Rosalind Question 8 (**Using Practice Data**)\n",
        "#Given: An RNA string s\n",
        "#corresponding to a strand of mRNA (of length at most 10 kbp).\n",
        "\n",
        "#Return: The protein string encoded by s.\n",
        "\n",
        "from Bio.Seq import Seq\n",
        "\n",
        "my_sequence = Seq(\"AUGGCCAUGGCGCCCAGAACUGAGAUCAAUAGUACCCGUAUUAACGGGUGA\")\n",
        "print(my_sequence.translate())\n",
        "\n",
        "#Note to Self: The astrick represents a stop codon"
      ],
      "metadata": {
        "id": "5Rzzfzij6q2P",
        "colab": {
          "base_uri": "https://localhost:8080/"
        },
        "outputId": "8749bcd8-bbc8-4801-a64a-4fd83ca78dc9"
      },
      "execution_count": null,
      "outputs": [
        {
          "output_type": "stream",
          "name": "stdout",
          "text": [
            "MAMAPRTEINSTRING*\n"
          ]
        }
      ]
    },
    {
      "cell_type": "code",
      "source": [
        "#Rosalind Question 8 (Using Actual HW Data)\n",
        "from Bio.Seq import Seq\n",
        "\n",
        "my_sequence = Seq(\"AUGACCGAAUUGGCAGGCCGCGCUCGGUUUGCCGGGAUGGGUGGUUGUGUAGUCCCCAAUCGGACGGUAGUGGGUGAAUACGCGAUACGCUCGGUUUGUCGGAUCAUCAUAAAAUCAGUGUUGUUAUCGUUGCUGGUUGUCCCCUCUGGUGCAGAACAUGUUAUACCAAGGCAGUGUUCUCCGCUAAAUUAUAAUCAAUGCUUUACCAUGCGUGCUUUUCUGCUGUUAGUGGAGCUUCGGGCUUCCAGCCACCAGCUGGACCUAAGCCCCACUUUGUUGCAUCCGAUAUACGCGACCAGACGCUAUGGGUCCGGGCCCCUGUCGAGAGCGACGAACUCAACUGACGUUUGUGCGACUAAGUACCCAUAUGGGGAGAUCGUUAUUUGUGUUGAAGCAGUUCGUAGUAAAAGAGGGACCCCUUACUGCGGGUAUGCUACACUUUUUAUUGAAAGUUCAGAAUAUAUAAACCUCAUAUGGGGGACUCGAGCCGGCCGGAACCGUCCGAUGGCCGAAGAAAGCCCGCUCGAGUACGAUAUGGAAGAUCUGGACGCAAAGUCGGUGCGAAACACAUACUGGCGUUCCUGCGCGAUUUGCGAUAUCCCGCGAUUGUACGCGCUAGGACCAUUCGAUUCAUAUUACGGAAUCCCCGAAGUUGAGGUACCCUACAAUUCGGUAAUGUCGUCCUCGGGGCGAACGGUGAUGAGUGCUUUUCGGUUCGGGGGGACGAACCUUCUUGUUCUAAUACGAACCAAUCAAGAAAAGGGUCAGGGCAGUCCGUGCCAUGCCGCGAACCCCCGCUUCCGACAACGUGAGGUGCUAAAUCGGUGCCAGAUAAGGCAACCCACCAUGCUACUGACGUUAUCUUCAGUGGGCGAUCCCAAGUACUCAAGUAAAAGGUUCGAGAGUUGCGACACCAGAUAUUUCUUACCGUUCUGUAGAGUCACUCUACCAGAACAGGCUAGCAGUGCGGUUUCGGUAGGACGCCGAAGUAGCGUAUUCCGAAAUUGGGAAGAGUACCGCACGUGGUCUAAACCUGAAAUGAGUCUUCUUCGCAGUUUAGCGGGUGCACGUCGUUCUGCAGAGGCGUUCACACCGCGCUGGCGUGAGCCCCACCGGACCCAUCCAUGUGCCGGACAGAAGGGGCUCCAACAUCGCGAUCCAUUCUGGUUCGCAGCUACGUGCAGAAUAAUCCUGUUAAGUCCGCUGUCGACCUGGUUGCAGGGGAAGGGGUAUGGUUGCAACACCUUGGAAUCUUUUCAUAGGUACUCCAUACAGUUACGGAACGACACUGCCGUGCUAAGAGUAAACUGGACAAACAUAACAGGCGGAGUUAUACGAGUAUGGGCUCACCCGAACCGCAGCCUCCAGGAACACGGACUCGUAGGGCUCCCGCUGCCGAGAAGGUGGCAGUCGAGCGGAUUUACACACCAGUGGAUAUCCCAUGCUAAAAUCGAUCUCUUGUCUCCGGAGCACGGUUACAAACAAAUGGUAAGUGAUCAGACUCCUAGCGAAGCUGGUCGAAAGACGGCUACCUGUUACCAGAAUGCGGAAAUCCCAGAAGUAUCUCAACGCGAUUGGUGCCUUCAGAUUGGAACUGUGCCCGUGAUACUACGCCUUACGAGAUUGUCACCACGACAGCGCACUUCUAGUUCCAAUUUGAGGAUCACAUGUACACGACGAUCCCUCGUGAUCUAUAAGGAAAGCCGAGUGUCUUAUACUUUUUGUAUCCCCCCAGCCGGCGCGCCGCAGGGAGGACUGACUCAAACGAGCAAACACUAUAGCUCCUUGUAUGGGGCAGCUCGGUGCCCUCCUUUGUUUCGUAGUCUAGUUGGGCAAUCAGCAAUACCCCACUUAAAGCGUUUUAGUGUCCCUCCUAUGCCCAGAAAUCGCCAAGCAGGUAACGCUGUAAGCCCUAGGUUAUCAGUUCACCGCUUUACACGAGGGACACACCCCCGGUAUAAAAUGGACACACAGCCCCAUACUUUACCACUUCAACUAGCGUUGACGGUCUGGGGCGUACAGUUUUGCCUGCUUAAAAGUGAGUUCGUAUCUCUAGGUGUAGAGCUAAAUAAUAUACGUAAUGCGCUGGAACCCAAGCUGGUGCAAUCACGCAUAACACGUUCGUCUUGGUCUUUGUCGUAUCUUACGCGCGGAGUCUUACGAGGCGCGGCUAGGAUAAUCGAUUAUACAAACCUAUCUUACCAGAUCAGACUUCAGGCAUUCUCCAGCGUAGGGCUGCUAUGGCUAAACAACUCUUCACUGAACAUGAUUCUUAAAUCGUUGCACUACCAGCGACACGAGCUGUAUAAUCCAGAGCCGCCCGAAAUCAGGCUUAAGGUGCCAUGUUCUCGUAGUUCGAGUUUGGUAGUUAACAAACCGUGCCCUCUAGUGACGGUGCGCCUACUUGAGCGUCACGGCUACGUUUACUAUCCAAUUGUUCUUCAUGCAGACGUCAUGUACGCCAGAUCAGGUGUUCUUUUGGUUAGUCGCAAUAUGACAGUGCUCACUAGCAUGAGCGCCAGCGAUGUGUUAACCCUAUGCCAUCUUUGCAAAACCAUGAUUGUAGGCACGGCUCACUUGAAAGUGUCUGCGAAUCCUGGUAGAUGCAUACCUAAUUCUAUCUUUGCCCGCUUCCGGAGGAGACAUAGUCUUGGCGUUCCGCAUUGGCCGCCGCACCACGCCCGUUUCCAAACCAUACUACCAGAUUACGUAAGCAGGGUUUUUGAAACGAGCUGGAGAGUGGAGCAGAUACUAACACAUAAACGUGUGAGAUCCCCAAGGGACGUAAAAUCCGACUCAACGAUGCCAUCGCACAAGGAGAUUAAGCAACUAGUAGACGAGUCGUCUUGGUACUGGGGACCUAAGAAAUCGGUGGCUGGUACCAGCCAAGGUCACAGCGGUCUCGUCCGGUUUUCGUACGACGCGACUAAUAGACUGUGGAUAUUGGUACGUCCCUCGCAUAUAAUUGUGCGGCAAUCAAGCCACCAGAUUAGACGAGCACGGAUUGGCCGCCCUUUUAUCUCUAACUUACGGGUACUGGAAACGGGUACAGGGGAGAUUGGCACAUACGGUGAUUAUUGGGUUAGUACACGACUUUGUAGCGUAUCUAAGGCCAUGUGUCGUGCCUUUGACUGGUCGAACCCUCUGUCAAACAGCGAGCCCCUGGCGACGCAUGACAUUCUUUGGGCAGAAAAGCUCCACAGAAAUCCCAGGUUAAGUAGCGGCCCUAUACAGAAUAGGUUUCCCCGCGUUUCUCCCGGGAUUCUUUCAAAAGUGCGGCGCCUGCUCCCAAAAAGGAUAUUACGCCCGGCGACGGAAAAGAAGGCUCACACAUUAAAUGAUAGUGAUAGGCGAAAGGGACGUAAUCCAUGGAAGUUUACCGGACAUCAUUGUCGAUCUGACGAGCACGAGAAAUAUAUAUCCAGUCCGAACAAGACGCGCCAUCUCAGGGAGCUAGACCUGCACGCUAUCCGAGUCCGUUUUGAGUUAACCAGGACUACGGCCCACUGUCCAUAUGACUCUUUGAGGUUCUUCCUGCGCAUAGGAAUGCUUUCGGCGCGUGUACACAGUGCUGACAUGGCAUCUUUCAGUCGGUGCCCCCUUAGACCAAGUGCGCUUCACUUGUACUAUGCGACUCAUUUUGAAGGAGGAAGCCCCGUGUCACACGGGGACUAUCCGUUCUACUAUGGGGGUUGGCAACACGGUCCACGAAGGGCGGCUUGCAUAAUGUACUCCGGAGAGCCUUGUUGGUCCUUCUGCCUUCUGUCUGGGAUGUCUUCCUAUCGAUCAUUAGUGAUCCUGCUACACCUAUUGGUUACGGAUAUAGGCAUACGGCUUCCGAAUAUAACUUGCAGUAGGCACAUUCCUAGGCCCCGGGACGCAUUUGGAGGGCGUAAUGCACCUCCGCCACGUUCGACUAGAGUUUGGGUUUUACGUGAGGGCUUAAUUAAUUCUCCUCUGCUUAGCUACAGAAACAGGCCAGAGCUGACCCGCGUGACGGAUCAAGUAGGGGUCCUCGCUGUAAUGUUUACUGUUGCGCGCUUCUUCAACAUUGUUAACCUCCUGCAGAUCUAUGGUAUACCAUAUAAUACUAGUAAGACGAGGAACGAUGUAGUACUGUGGAAACUAAGGCGAAGUCGUGUCGUACUCGCAGGCUUUCGGUUUCCUCCAGGACGUCUGCGCGUCUUGUACAAUUAUCUCCAUGAGUACCUUUACAAAAAGUCGAUCCAGACCAGACUUACCCCCGGACCAUCCGAAAUGACGUCGUCGACUAAUCACUGGGUGAUGUUACAAGCUCCGACUGCGCGAACGGUCUCCACUCUCCAUUGUUGGUUCUUUAUGUACUUCUCCCCCAACUCUAGGGCGGGCCCUAUAGCUACCCCACCAACUUAUAUGAGUGUGGAUAAAGUCCUCAAUGGCGGGGGACGUGGGCUAAACCAAUCCAUAUCCCCGAGGACUGUAUGGACUGUUCCACUGCCAGGUGCCACGCGCCCAGCUUGUUGCAAGGUUACCCCAGACAUUUAUGCUAUGUACUUCCCGCAUUGCGUAUGGCUUCUUUGCCAACCUACGACGGCGACGAUGAUCAAUGGCGGAGGCAGCAAUGGGCAACUUAGUGUUUCUAUGCAAGCACGUGAUUUGUUACCUCUUCAUGCGCGGGAAUGGACGGCCCGGCCGCGGAAGCGUAUGGAAAAACAGAUAGGUCCUCCAUUGAUCCCCCUCGCCCAAUCACACAACGUACUCAAACGACCGCGGCUCCUCGCACGCCGGCCCAGUCUGACUUACUCGAAUUUGCCCUCCGUGAUUACAACGACUGGGCUGAGGAAGAUAGUCAUCUGGAAGGUCGACACACGUAGCAGUCAGGUUAGCUCGGAACAGAAACUAUGCCCUAUCUGGAGAUUGUAUGGAACUAACAUAACUGACUUAGUAGUGGCACCGCUAUUUCGUGCAUACGAAACUCCGAAAUUCUCGAAAUUAGCCCACAAUUGCGGAUGUGCCUACGGAUCGUCAGUUGCGGACAUGUCGCGCCUCCCAUCUCCACCCGGACGAUUUGACGUAACUCCUAAUCAACGCAUAAAAACCGGUAGAAACCGUUAUGAAAACUUUGGGGCCCUUCGGCGCAAACCGGUCCACAGUAUAGCGGUUGCGCUAGAAGUAUCGCGUUCAACGGCAAUUGGCUCAGUGGAAGCCUUGGGUGGUCGAAGACCUACUGCUGACCUAGUUGUAAACGCGCAUGAAAAUACUCACGUUAGCCUAUACAUUAUAACAGGGACACGCCCCGUGGUGCAUCGAGUCACCAAAUGUCUUAAAUUCUCGUUGCGGAAGGACGCCCAGCAGGCCAGUCCACCGCGAGCAACUCCAGGGCCCACCUCCCGUCUUAUGCGACCUCAGCUAGCUAGUGCACGUGACCGUCGCUUGCCGAUGAACGCUACCCGGAAUGUAGUGAGUUUGAAUUGGGUAUCCCGACAACAACCCAGACGAAGCCUCCUAGCAAAAUAUGUGCCACACAUCGAGUGGCGUGACGAGUACAGUGCGGCACAGUUAUCUAUCGCGCCAGAACCAUCGAGGGAGCGAAGCGGGAGGUAUUCGCCACCCGCAACAUAUCAGCGACAAAAACGGCAUAGGUCUGACCAGCGUCCUCUCCUACCCCGGGUACCGGACACGAACGUGGACAUACAAUUAAUUAACCCCAUUCCGUCACAAAAUGUGGCUCUCCGGUCGAUUAAAGGCGACAGAACAGCGAACUGUGAACCUGCCCCACAAGAAGCCCGGGUCAUACUUGGAAUGGCCGGUAGCGGAUACUCCUUCCUUUCCUCAUUUGGCGCCGAUAGGAUGGCCGUUAGGCUAAACCUUCUGUCGGUGCUGGCUGUACCCUGCUUCGGGCAUUCCAGCGCAUUUCAAUACUGUUGUGUGCCCAUGUCUGAUAUUGAUCUCUACCGCAUGGGUGGAGACGAAUGCUCAGGCGACAGACAGUUAAAUUAUCACCCAUUUUCGCUCACCCUGCACGCACCGUCGCGCGGCUCCGGCCCUACAAAGGCCCCCCAGCCAGACGUGUACGGCCUGUCUCACUGCGCUGAUUGGCAGCCUUCAAUGGAAAGACCGAUCCGGUCUUUCCUCACAGUGGAAUUCAAGCUUGAUCAGGGCAUGCUGCUAUAUAUGGUUUCCUUAGGGACCUGGGCAAACCCUGCCCGUUUUAUUGGACAAAACACGUACUCAGUGAGAUUGCGUGGUUCGUUACAAUCCGCGCAACUCCGGUAUAAUGAGCGUCCCGCAGACCAUGCUGUCCGUUCCCACCUCCUUGAGGUUUACACAGUGUGGCGAGUCUACCGUACCAGAAGGUAUAUCGUCCGGGAAACUACUCAACCAGUACAUUUGAGGUACCCAAAAUUCGAUCUGCGGUGGUUGAUUUCAUGGAUAAAGCUACCACGCUCUGCCACAUGGCAUUCUGGCACGAAUAUUGUGGCAAUCCCUGUCAUGCGCGCAGAAUGCUAUAAACUAGGCCUAAAGAUAGGGCGUGACAGAUGUUUCCGUGUGAGUGUACUGCUUCAUGCGAGCAUUCUAGUUGAUUCACGUACCUUUCACCUAGACCGCGCUGUACCAACGGUAACAUGUGGGGUAUUUUGUGACUUACAACUAACAAUCGGAUUAGAGGGUUCCCGAAACAGCGAUACUAUAGGGACGAUCGAGAUGCCUGGGUCAUUUCGAGUUCAGGGCGAGACACUUAAAAUGCGCCCGAGGAUGCUUAGGCUCCAAGCUAAUCGGUAUAAAGCCCACCUAAACAUUCCUCGAAGGUUACGCUUUACUCGUACGACCCGGUUACCAAAAAUAAUUGCUUUGAGAGCCCAAGACUCAUUGUUCUCUUGUCAUUUGACUUCUAUCCAACCCGAGUUGAUUGCAAACUCUUCCAAGAUGACCUGCUUGGUGUAUGCGGGAUCGCAAUCGGCAAAGGGCGCAGCCCACGGCGUCCCCGAUGCCACACUUGCCGUGCCCACAGAUUGGCCUGUCGGAAGGGUGAGCCCCCCAAGGCCUCGUGGUUCCUUAGCUAGCCAGGUCCCAAACCAGCUACUGUUACUAGAUUAUUAUCCAUUACGCCUCUCUCACGAAUCGUUUACAAAGUUGAGACCAGGUCCGCAGGAAACUGGUACUCGGAGCGCGUAUGACGUCGGAAAAAGUCACGUUUUUACAGCCACUGGUUCAAAAAGGCGCUUUGAUGCAGCUUGCCGUAAGGUAUCGUCGUUGAGACUACGGCGGAAACGCCCCAUCUGCGGGUGCGUCGUUGUCAAUUGCAACUCGAGCCCCACGGAUCUUACGAUGUACAACGCCUUAGGCUACACCGCCAAGUUGUCUCUUCGAUGGGCGCGGAUAGAGUCAAGAUCUUGUAGUGGGGCGUCCGUCGGACUGCACAGGCCAUGGCCGGGUAGCCGAUGGCGCCGGAAGCUUGUCCCUAUGCGGGUAGACCUUCGGAUCUGUAGAGCGAACCAAAUAAGGACGUGUGGCAACGCGAGUGCUGCUCCUACAAGCCGCACUACUCGGGGAGGGCCCUGGUUUCAUACGCACACUCAUAACCCCUCAAUCACCCUUGUGUCAAAAUCAUCGGAACAGGUACCUAAUUUUCCUCGCGUCGACGUACGGUUGUGUCACUGGACAGGGAAUGCAGAAAAUAAUCAGACUUCUUGUAUCAACUUACUCACGGAGACCAGGCAAGAUGGUUCAACAUGUGUCUCCGAUGAAAUGAGCGCGAUACGCAGAAUUACGAAUUUUUCUACAAGUCACGAGAACUUCUGGCCCUACAUAAUUAUCAUUGCGAUAACGGGGAUAAACAAACCCGUAGGGCGGGACUUUCAUUCCAAUAUCACAGUCGAGACGCUUACACUUUAUGGGGUUAGUCGUGCACUAGGUAACCCCUUGGUGGAGGCAUUAGGCAUUGCGUGUGGUUGCAUGGUGAUCCCUGAAGCGAGUCGGAUGCUUCUGUUAAGGUUAUGGAUUAGUGAGCCGAAGGCAAACAGGUGGUGGGACUUUUGGAAAUCCCACGUACGACAGAAUCACAUACUCUGCAGUUUAUAUACAUUUCUGGGCUUUCUACGCGACAACGUCACCAGAGCGACGUUAAUCACUUUUAAUGGAGCUGAUUCGUACCGAAGCAUGAGCCCUUUGCUUAUGGCCUCUCAUCGGUGGCCCAGCAAUUAUUCGAUAAUCCCGAACGCCUACCAACUGAAUCAGCUCAAGCGCCCGCAAGGUGUCUCUAUAACACUAGUGGAAGGAUUGAGAGACUUUCAUUCUCACCGCCAACGAAACGGCAGUUCGGCCGGUACUGCAAAUCGCAGCAAAUUUUCUACCCAUUCCACUAGUAGGAUAGCUCAAACGUUACUAAUAGGUUUAGUAUCGACACGCGUUGAAGUAUGUACGUACGACAAGAGGUUCGAUGCCGACUCGUGGUCAACCAUUAGAUUGGAUUUUAAUUGUUUGUCACUUAUCAGCAUCCCGGAUACGCCGAUCGACAGGUCCGACCGUUACUAUACCCAUCCGCGAGACCGCGGAACCCGUUCUCCCUAUGCUCAUGCGAUCAUCAUAUCAUUGCAAAGUGGGUACUGCUAUCGUCUCGCACAAUCUGUCAACAAGGCCGAGGGGAGAGUAAUGUGUUGUUUCAGACGAUUGUUCCACGUAACCCUGUCAAAAAAGCACUUGCACCCAGGCCCCCUAUAUAUGGAUACGGUUAUGAGCACAAGCAACAAAAUUGCGGCUUUUGUGAACAUAUUCCAACGGAAGAUUUCCUUAAAUCCGACGCGCUUGAGAUCUCGGUUACCAAGAUUGAUAAGUGUACCAUCGGCGUUUGCCCCAUCAAAGAGAGUGGACAACAGUGCGCUAUAUCGUGGACUCAGCGUGCUUGACCACCACAUGCCGGGUAACUAUAUGGAUGAUCCUCCUGCAAAUGAUCGCGAAUCCGCGAAUACGAACGUCAUACUAGGUCGGUGGGUUAAGCACCGAUUCAGAACCAAGGGUCCACGGGCCGAAUUUUAUACAAUAAAGCUGGUACUAUCUCUUCCUUGCUUGGUGCAUCCGCGGGCCAUGCGUCCUUCUGCCAGUCAGCUUGGGGUUAGUCCAAUCAAGAACUUUAUGCGGGUACACUUUCACCCUGGUAUUAGAGGGCGGUGCUGGCAACUGCGGCCUGCUUACCACCGACACGAGAGCACUAGUUUUGACGGGGGUUCGGACGGCUUGCGUAUCAACCUAAUCUCCUAUAUUUCGAAGCUUUUAGAACUUAAGUUGAUUGUGUGGGGGAUGCGUGACGGAAAACUCUGUAUGGGCGCUGUGGAUCGUCAAUUCCCCUUGAACAGGUCUAACGCCCAAUACGUGCGCCACAAAUACCCGUUAGCACACCUACAAUACAGCUCGAGAAUGACGUGCUGCGUUCAAUCGACGGAAACGUGUGAGCAUUGUCAGCGUCACCGAGAGCAUUUUCGAUUCCCUAGACCGGUGGGACGAGGGCGACCUAAGGGUGCAUUUCUUCCGCAGUGGAGACCGCAAGCGAAUAGGGUACGCUAA\")\n",
        "print(my_sequence.translate())"
      ],
      "metadata": {
        "colab": {
          "base_uri": "https://localhost:8080/"
        },
        "id": "suyId0ITW-kv",
        "outputId": "64ee48af-5ab2-4425-d229-cd1ba5d4d9f6"
      },
      "execution_count": null,
      "outputs": [
        {
          "output_type": "stream",
          "name": "stdout",
          "text": [
            "MTELAGRARFAGMGGCVVPNRTVVGEYAIRSVCRIIIKSVLLSLLVVPSGAEHVIPRQCSPLNYNQCFTMRAFLLLVELRASSHQLDLSPTLLHPIYATRRYGSGPLSRATNSTDVCATKYPYGEIVICVEAVRSKRGTPYCGYATLFIESSEYINLIWGTRAGRNRPMAEESPLEYDMEDLDAKSVRNTYWRSCAICDIPRLYALGPFDSYYGIPEVEVPYNSVMSSSGRTVMSAFRFGGTNLLVLIRTNQEKGQGSPCHAANPRFRQREVLNRCQIRQPTMLLTLSSVGDPKYSSKRFESCDTRYFLPFCRVTLPEQASSAVSVGRRSSVFRNWEEYRTWSKPEMSLLRSLAGARRSAEAFTPRWREPHRTHPCAGQKGLQHRDPFWFAATCRIILLSPLSTWLQGKGYGCNTLESFHRYSIQLRNDTAVLRVNWTNITGGVIRVWAHPNRSLQEHGLVGLPLPRRWQSSGFTHQWISHAKIDLLSPEHGYKQMVSDQTPSEAGRKTATCYQNAEIPEVSQRDWCLQIGTVPVILRLTRLSPRQRTSSSNLRITCTRRSLVIYKESRVSYTFCIPPAGAPQGGLTQTSKHYSSLYGAARCPPLFRSLVGQSAIPHLKRFSVPPMPRNRQAGNAVSPRLSVHRFTRGTHPRYKMDTQPHTLPLQLALTVWGVQFCLLKSEFVSLGVELNNIRNALEPKLVQSRITRSSWSLSYLTRGVLRGAARIIDYTNLSYQIRLQAFSSVGLLWLNNSSLNMILKSLHYQRHELYNPEPPEIRLKVPCSRSSSLVVNKPCPLVTVRLLERHGYVYYPIVLHADVMYARSGVLLVSRNMTVLTSMSASDVLTLCHLCKTMIVGTAHLKVSANPGRCIPNSIFARFRRRHSLGVPHWPPHHARFQTILPDYVSRVFETSWRVEQILTHKRVRSPRDVKSDSTMPSHKEIKQLVDESSWYWGPKKSVAGTSQGHSGLVRFSYDATNRLWILVRPSHIIVRQSSHQIRRARIGRPFISNLRVLETGTGEIGTYGDYWVSTRLCSVSKAMCRAFDWSNPLSNSEPLATHDILWAEKLHRNPRLSSGPIQNRFPRVSPGILSKVRRLLPKRILRPATEKKAHTLNDSDRRKGRNPWKFTGHHCRSDEHEKYISSPNKTRHLRELDLHAIRVRFELTRTTAHCPYDSLRFFLRIGMLSARVHSADMASFSRCPLRPSALHLYYATHFEGGSPVSHGDYPFYYGGWQHGPRRAACIMYSGEPCWSFCLLSGMSSYRSLVILLHLLVTDIGIRLPNITCSRHIPRPRDAFGGRNAPPPRSTRVWVLREGLINSPLLSYRNRPELTRVTDQVGVLAVMFTVARFFNIVNLLQIYGIPYNTSKTRNDVVLWKLRRSRVVLAGFRFPPGRLRVLYNYLHEYLYKKSIQTRLTPGPSEMTSSTNHWVMLQAPTARTVSTLHCWFFMYFSPNSRAGPIATPPTYMSVDKVLNGGGRGLNQSISPRTVWTVPLPGATRPACCKVTPDIYAMYFPHCVWLLCQPTTATMINGGGSNGQLSVSMQARDLLPLHAREWTARPRKRMEKQIGPPLIPLAQSHNVLKRPRLLARRPSLTYSNLPSVITTTGLRKIVIWKVDTRSSQVSSEQKLCPIWRLYGTNITDLVVAPLFRAYETPKFSKLAHNCGCAYGSSVADMSRLPSPPGRFDVTPNQRIKTGRNRYENFGALRRKPVHSIAVALEVSRSTAIGSVEALGGRRPTADLVVNAHENTHVSLYIITGTRPVVHRVTKCLKFSLRKDAQQASPPRATPGPTSRLMRPQLASARDRRLPMNATRNVVSLNWVSRQQPRRSLLAKYVPHIEWRDEYSAAQLSIAPEPSRERSGRYSPPATYQRQKRHRSDQRPLLPRVPDTNVDIQLINPIPSQNVALRSIKGDRTANCEPAPQEARVILGMAGSGYSFLSSFGADRMAVRLNLLSVLAVPCFGHSSAFQYCCVPMSDIDLYRMGGDECSGDRQLNYHPFSLTLHAPSRGSGPTKAPQPDVYGLSHCADWQPSMERPIRSFLTVEFKLDQGMLLYMVSLGTWANPARFIGQNTYSVRLRGSLQSAQLRYNERPADHAVRSHLLEVYTVWRVYRTRRYIVRETTQPVHLRYPKFDLRWLISWIKLPRSATWHSGTNIVAIPVMRAECYKLGLKIGRDRCFRVSVLLHASILVDSRTFHLDRAVPTVTCGVFCDLQLTIGLEGSRNSDTIGTIEMPGSFRVQGETLKMRPRMLRLQANRYKAHLNIPRRLRFTRTTRLPKIIALRAQDSLFSCHLTSIQPELIANSSKMTCLVYAGSQSAKGAAHGVPDATLAVPTDWPVGRVSPPRPRGSLASQVPNQLLLLDYYPLRLSHESFTKLRPGPQETGTRSAYDVGKSHVFTATGSKRRFDAACRKVSSLRLRRKRPICGCVVVNCNSSPTDLTMYNALGYTAKLSLRWARIESRSCSGASVGLHRPWPGSRWRRKLVPMRVDLRICRANQIRTCGNASAAPTSRTTRGGPWFHTHTHNPSITLVSKSSEQVPNFPRVDVRLCHWTGNAENNQTSCINLLTETRQDGSTCVSDEMSAIRRITNFSTSHENFWPYIIIIAITGINKPVGRDFHSNITVETLTLYGVSRALGNPLVEALGIACGCMVIPEASRMLLLRLWISEPKANRWWDFWKSHVRQNHILCSLYTFLGFLRDNVTRATLITFNGADSYRSMSPLLMASHRWPSNYSIIPNAYQLNQLKRPQGVSITLVEGLRDFHSHRQRNGSSAGTANRSKFSTHSTSRIAQTLLIGLVSTRVEVCTYDKRFDADSWSTIRLDFNCLSLISIPDTPIDRSDRYYTHPRDRGTRSPYAHAIIISLQSGYCYRLAQSVNKAEGRVMCCFRRLFHVTLSKKHLHPGPLYMDTVMSTSNKIAAFVNIFQRKISLNPTRLRSRLPRLISVPSAFAPSKRVDNSALYRGLSVLDHHMPGNYMDDPPANDRESANTNVILGRWVKHRFRTKGPRAEFYTIKLVLSLPCLVHPRAMRPSASQLGVSPIKNFMRVHFHPGIRGRCWQLRPAYHRHESTSFDGGSDGLRINLISYISKLLELKLIVWGMRDGKLCMGAVDRQFPLNRSNAQYVRHKYPLAHLQYSSRMTCCVQSTETCEHCQRHREHFRFPRPVGRGRPKGAFLPQWRPQANRVR*\n"
          ]
        }
      ]
    },
    {
      "cell_type": "markdown",
      "source": [
        "####**<font color=crimson>TASK 21.3 Commit to GitHub**</font>\n"
      ],
      "metadata": {
        "id": "dvtR4N7L6sZ_"
      }
    },
    {
      "cell_type": "markdown",
      "source": [
        "#<font color=blue>**P22.**</font> SeqIO – a function to parse( ) sequence files"
      ],
      "metadata": {
        "id": "bDJqtRiX3fEG"
      }
    },
    {
      "cell_type": "markdown",
      "source": [
        "####**TASK BP 22.1** Read in the practice dataset from Rosalind #9 and print the id of each sequence in the file."
      ],
      "metadata": {
        "id": "VKyMhLjx7nIo"
      }
    },
    {
      "cell_type": "code",
      "source": [
        "#Note to self: Go to office hours next week to find out why it is only\n",
        "#considering two of the Sequences\n",
        "from Bio.SeqIO import parse\n",
        "\n",
        "for seq_record in parse(\"/practice_9.txt\", \"fasta\"):\n",
        "    print (seq_record.id)\n",
        "    print (seq_record.seq)\n",
        "    print (len(seq_record.seq))\n",
        "    print (seq_record)"
      ],
      "metadata": {
        "colab": {
          "base_uri": "https://localhost:8080/"
        },
        "id": "xUi3JEoh7yJ6",
        "outputId": "e5c21b00-9f97-4aab-923e-84ac654ccda4"
      },
      "execution_count": null,
      "outputs": [
        {
          "output_type": "stream",
          "name": "stdout",
          "text": [
            "Rosalind_5959\n",
            "CCATCGGTAGCGCATCCTTAGTCCAATTAAGTCCCTATCCAGGCGCTCCGCCGAAGGTCTATATCCATTTGTCAGCAGACACGC\n",
            "84\n",
            "ID: Rosalind_5959\n",
            "Name: Rosalind_5959\n",
            "Description: Rosalind_5959\n",
            "Number of features: 0\n",
            "Seq('CCATCGGTAGCGCATCCTTAGTCCAATTAAGTCCCTATCCAGGCGCTCCGCCGA...CGC')\n",
            "Rosalind_0808\n",
            "CCACCCTCGTGGTATGGCTAGGCATTCAGGAACCGGAGAACGCTTCAGACCAGCCCGGACTGGGAACCTGCGGGCAGTAGGTGGAAT\n",
            "87\n",
            "ID: Rosalind_0808\n",
            "Name: Rosalind_0808\n",
            "Description: Rosalind_0808\n",
            "Number of features: 0\n",
            "Seq('CCACCCTCGTGGTATGGCTAGGCATTCAGGAACCGGAGAACGCTTCAGACCAGC...AAT')\n"
          ]
        }
      ]
    },
    {
      "cell_type": "markdown",
      "source": [
        "#<font color=blue>**P23.**</font> SeqUtils.GC( ) – a function to compute GC content"
      ],
      "metadata": {
        "id": "SAjUYBpe3pwi"
      }
    },
    {
      "cell_type": "code",
      "source": [
        "#Task 23.1\n",
        "#Modify Script to get GC content for each\n",
        "#Note to self: Go to office hours next week to find out why it is only\n",
        "#considering two of the Sequences\n",
        "\n",
        "from Bio import SeqIO\n",
        "from Bio.SeqUtils import gc_fraction\n",
        "\n",
        "\n",
        "def gc_all(filename: str):\n",
        "\n",
        "\n",
        "    for record in SeqIO.parse(filename, \"fasta\"):\n",
        "        gc = gc_fraction(record.seq) * 100\n",
        "        print(f\"{record.id} {gc:.3f}\")\n",
        "        #Note to self: Go to office hours and find out what is up with this code\n",
        "\n",
        "\n",
        "\n",
        "gc_all(\"/practice_9.txt\")"
      ],
      "metadata": {
        "colab": {
          "base_uri": "https://localhost:8080/"
        },
        "id": "HsmdhYQOZe78",
        "outputId": "93c9eec0-8b1a-45ca-cdfd-a500d17c8903"
      },
      "execution_count": 124,
      "outputs": [
        {
          "output_type": "stream",
          "name": "stdout",
          "text": [
            "Rosalind_5959 53.571\n",
            "Rosalind_0808 60.920\n"
          ]
        }
      ]
    },
    {
      "cell_type": "code",
      "source": [
        "#Task 23.2\n",
        "#Rosalind Problem Number 9 (Using Practice Data)\n",
        "from Bio import SeqIO\n",
        "from Bio.SeqUtils import gc_fraction\n",
        "\n",
        "# Step 1: Initiate variable to be maximum value for CG content\n",
        "def find_maximum_gc(filename: str):\n",
        "    maximum_name = None\n",
        "    maximum_gccontent = 0.0\n",
        "\n",
        " #Step 2: Making the loop that goes through and looks for the highest GC content\n",
        " #one-by-one\n",
        "    for record in SeqIO.parse(filename, \"fasta\"):\n",
        "\n",
        "        gc = gc_fraction(record.seq) * 100\n",
        "        if gc > maximum_gccontent:\n",
        "            maximum_gccontent = gc\n",
        "            maximum_name = record.id\n",
        "#Step 3: Print the name and conent\n",
        "    print(maximum_name)\n",
        "    print(maximum_gccontent)\n",
        "\n",
        "\n",
        "find_maximum_gc(\"/practice_9.txt\")"
      ],
      "metadata": {
        "colab": {
          "base_uri": "https://localhost:8080/"
        },
        "id": "sZ7ZZCgMej3c",
        "outputId": "1bf6ca13-9fa7-4c8b-daaf-2312775cb149"
      },
      "execution_count": 116,
      "outputs": [
        {
          "output_type": "stream",
          "name": "stdout",
          "text": [
            "Rosalind_0808\n",
            "60.91954022988506\n"
          ]
        }
      ]
    },
    {
      "cell_type": "code",
      "source": [
        "#Task 23.2\n",
        "#Rosalind Problem Number 9 (Using Actual HW Data)\n",
        "from Bio import SeqIO\n",
        "from Bio.SeqUtils import gc_fraction\n",
        "\n",
        "# Step 1: Initiate variable to be maximum value for CG content\n",
        "def find_maximum_gc(filename: str):\n",
        "    maximum_name = None\n",
        "    maximum_gccontent = 0.0\n",
        "\n",
        " #Step 2: Making the loop that goes through and looks for the highest GC content\n",
        " #one-by-one\n",
        "    for record in SeqIO.parse(filename, \"fasta\"):\n",
        "\n",
        "        gc = gc_fraction(record.seq) * 100\n",
        "        if gc > maximum_gccontent:\n",
        "            maximum_gccontent = gc\n",
        "            maximum_name = record.id\n",
        "# Step 3: Print the name and conent\n",
        "    print(maximum_name)\n",
        "    print(maximum_gccontent)\n",
        "\n",
        "\n",
        "find_maximum_gc(\"/rosalind_gc (1).txt\")"
      ],
      "metadata": {
        "colab": {
          "base_uri": "https://localhost:8080/"
        },
        "id": "DiuJruFal_nU",
        "outputId": "9ae14a7b-d219-40d0-8f39-3ae2873761b8"
      },
      "execution_count": 117,
      "outputs": [
        {
          "output_type": "stream",
          "name": "stdout",
          "text": [
            "Rosalind_2311\n",
            "51.39607032057911\n"
          ]
        }
      ]
    }
  ]
}